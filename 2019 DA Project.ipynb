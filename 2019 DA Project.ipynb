{
 "cells": [
  {
   "cell_type": "markdown",
   "metadata": {},
   "source": [
    "# 2019 DA Project:  Supply Chain - Safety Stock"
   ]
  },
  {
   "cell_type": "markdown",
   "metadata": {},
   "source": [
    "## Project Plan\n",
    "\n",
    "- Choose a real world phenomenon\n",
    "- Research and understand the phenomenon\n",
    "- Identify variables \n",
    "- Match variables to a distribution\n",
    "- Synthesise the dataset\n",
    "- Analyse variables and their inter relationships\n",
    "- Devise an algorithm or method to synthesise those variables\n",
    "- Generate dataset"
   ]
  },
  {
   "cell_type": "markdown",
   "metadata": {},
   "source": [
    "## Introduction\n",
    "\n",
    "I have chosen safety stock that is held in distribution centres as the real world phenomenon to measure.   Some companies hold large levels of safety stocks to avoid shortfalls.  However, that is neither economical nor efficient operationally.  Given tight margins, complex sourcing and international dimensions, how can companies maximise their sales with minimum investment in inventory in distribution centres?"
   ]
  },
  {
   "cell_type": "markdown",
   "metadata": {},
   "source": [
    "## Research\n",
    "\n",
    "### What is a Supply Chain?\n",
    "\n",
    "Supply chains consist of suppliers, manufacturers and distribution centres: \n",
    "\n",
    "- Suppliers supply raw materials or finished products\n",
    "- Manufacturers convert raw materials into finished products\n",
    "- Distribution centres sell finished products to customers\n",
    "\n",
    "Customer satisfaction is linked to an effective supply chain.  In order to satisfy customer demand, a certain level of inventory is held.  This is called safety stock.  It is stock that is held in excess of expected demand due to variable demand rate and/or variable lead time to the distribution centres.  It is necessary as it is impossible to predict future sales with 100% accuracy and given the complexity of supply chains, any issue can impact the manufacturers ability to deliver product to forecast e.g weather can ground planes and impact suppliers ability to deliver components on time to the manufacturer. \n",
    "\n",
    "Product shortages result in lost customers sales.  If a product is not on the shelf, customers look elsewhere.  To resolve product shortages, many companies increase safety stocks. As inventory budgets are targeted at finished products, this can result in reduced holdings of raw materials required to manufacture finished products.[6]  This inhibits companies ability to respond to fluctuations in demand.  Is there a correlation between product shortages and safety stock?  Do other variables such as forecast, lead times, cycletime at the manufacturer have an impact?  Safety stocks tie up Company money and may inhibit investment in other areas of the business which would drive future growth.  The goal of this project is to identify if safety stocks can be reduced to free up cash for the company.  "
   ]
  },
  {
   "cell_type": "markdown",
   "metadata": {},
   "source": [
    "## Variables\n",
    "\n",
    "Determine the variables.  5 variables have been identified: \n",
    "\n",
    "#### Variable 1 : ABC\n",
    "In materials management,  ABC analysis divides inventory into three categories:\n",
    " - \"A\" items.  These are the high runners.\n",
    " - \"B\" items.  These are lower runners.\n",
    " - \"C\" items.  Very slow moving and often built to order.\n",
    "\n",
    "A different approach is required for each category:\n",
    "\"A\" are high revenue products: they generate 80% of annual sales of which are 20% of inventory SKU’s.\n",
    "\"B\" are middle to low revenue products: 15% annual sales and 20% inventory SKU’s.\n",
    "\"C\" are low revenue products: 5% annual sales and 60% inventory SKU’s.  Generally these are built to order.\n",
    "\n",
    "ABC classification falls within the Pareto Distribution parameters.  The Pareto distribution is a skewed distribution and is also called as the '80-20 rule'. This distribution demonstrates inequity i.e. not all things are divided equally. 80% of values are in the 20% range with the remaining 20% in the 80% range. This is clearly illustrated in the company being analysed - 80% of revenue is often from 20% of products.\n",
    "\n",
    "\n",
    "#### Variable 2:  Distribution time in days to the distribution centre\n",
    "This relates to the transportation time from the manufacturer to the distribution centres.  The time in days has been set at 5 to a range of distribution centres across the globe.  A combination of air, sea and road freight is used.  Established channels are used and contracts negociated to ensure global consistency of 5 working days or 1 week.  A normal distribution is therefore appropriate.\n",
    " \n",
    "#### Variable 3:  Cycle time at the Manufacturer (in days)\n",
    "This relates to the manufacturers ability to manufacture the forecast set.  This also follows a normal distribution but is more widely spread as issues occur with external suppliers e.g quality issues and internally with yield etc.  All products are manufactured from similar components from bespoke suppliers.\n",
    "\n",
    "#### Variable 4:  Forecast set by Global Planning\n",
    "This relates to the manufacturers ability to manufacture the forecast set.  This follows a pareto distribution as is linked to ABC classification.  \n",
    "\n",
    "#### Variable 5:  Safety Stocks\n",
    "Safety stocks cover unexpected demand or difficuties at the manufacturer.  Safety stocks tie up company money therefore potentially limiting future performance as money is not available to invest.  Safety stocks are straightforware - they cover shipping and manufacturing days and one week for risk.  They are normally distribtued as linked to the normal distributions of cycle time at the manufacturer and distribution time to the distribution centres."
   ]
  },
  {
   "cell_type": "markdown",
   "metadata": {},
   "source": [
    "## Import Libriaries"
   ]
  },
  {
   "cell_type": "code",
   "execution_count": 1,
   "metadata": {},
   "outputs": [],
   "source": [
    "import numpy as np\n",
    "import pandas as pd\n",
    "import matplotlib.pyplot as plt\n",
    "import seaborn as sns\n",
    "import csv"
   ]
  },
  {
   "cell_type": "code",
   "execution_count": 2,
   "metadata": {},
   "outputs": [],
   "source": [
    "# Make matplotlib show interactive plots in the notebook.\n",
    "%matplotlib inline\n",
    "# Apply the default seaborn settings\n",
    "sns.set()"
   ]
  },
  {
   "cell_type": "code",
   "execution_count": 3,
   "metadata": {},
   "outputs": [],
   "source": [
    "# Dataset comprises 200 materials\n",
    "mat = 200"
   ]
  },
  {
   "cell_type": "markdown",
   "metadata": {},
   "source": [
    "## Match Variables to Distributions"
   ]
  },
  {
   "cell_type": "markdown",
   "metadata": {},
   "source": [
    "### Variable 1 : ABC\n",
    "ABC classification falls within the Pareto Distribution parameters.  The Pareto distribution is a skewed distribution and is also called as the '80-20 rule'. This distribution demonstrates inequity i.e. not all things are divided equally. 80% of values are in the 20% range with the remaining 20% in the 80% range. This is clearly illustrated in the company being analysed - 80% of revenue is often from 20% of products."
   ]
  },
  {
   "cell_type": "code",
   "execution_count": 4,
   "metadata": {},
   "outputs": [],
   "source": [
    "# Define ABC categories\n",
    "abc = [\"A\", \"B\", \"C\"]"
   ]
  },
  {
   "cell_type": "code",
   "execution_count": 5,
   "metadata": {},
   "outputs": [
    {
     "data": {
      "text/plain": [
       "array(['B', 'A', 'B', 'C', 'B', 'B', 'B', 'C', 'C', 'C', 'C', 'C', 'B',\n",
       "       'B', 'C', 'C', 'B', 'B', 'A', 'C', 'B', 'B', 'A', 'C', 'A', 'C',\n",
       "       'B', 'A', 'B', 'C', 'C', 'A', 'C', 'C', 'B', 'C', 'C', 'C', 'B',\n",
       "       'C', 'B', 'A', 'A', 'B', 'C', 'C', 'B', 'A', 'B', 'C', 'C', 'C',\n",
       "       'C', 'C', 'A', 'B', 'C', 'A', 'A', 'C', 'B', 'B', 'B', 'A', 'B',\n",
       "       'A', 'C', 'A', 'C', 'B', 'C', 'B', 'B', 'C', 'B', 'A', 'C', 'C',\n",
       "       'C', 'A', 'C', 'B', 'C', 'B', 'A', 'B', 'C', 'B', 'C', 'C', 'A',\n",
       "       'C', 'C', 'C', 'C', 'B', 'C', 'B', 'A', 'B', 'C', 'A', 'B', 'A',\n",
       "       'A', 'B', 'C', 'B', 'B', 'A', 'B', 'C', 'B', 'B', 'B', 'C', 'C',\n",
       "       'A', 'C', 'B', 'C', 'C', 'A', 'A', 'B', 'C', 'C', 'C', 'A', 'C',\n",
       "       'A', 'C', 'B', 'C', 'C', 'B', 'C', 'C', 'B', 'A', 'C', 'C', 'C',\n",
       "       'B', 'A', 'A', 'B', 'C', 'B', 'A', 'A', 'B', 'C', 'C', 'B', 'B',\n",
       "       'A', 'B', 'C', 'C', 'A', 'C', 'C', 'A', 'B', 'C', 'A', 'C', 'C',\n",
       "       'A', 'C', 'B', 'A', 'C', 'C', 'C', 'C', 'B', 'A', 'C', 'C', 'A',\n",
       "       'B', 'A', 'B', 'C', 'B', 'A', 'C', 'C', 'B', 'B', 'C', 'C', 'A',\n",
       "       'A', 'C', 'B', 'C', 'B'], dtype='<U1')"
      ]
     },
     "execution_count": 5,
     "metadata": {},
     "output_type": "execute_result"
    }
   ],
   "source": [
    "# ABC classification has a Pareto distribution\n",
    "# Adapted from https:https://pynative.com/python-random-choice/\n",
    "# 20% of materials are of class A with the remaining 80% split between B & C\n",
    "abc_class = np.random.choice(a = abc,  p=[0.2, 0.30, 0.50], size = mat)\n",
    "abc_class"
   ]
  },
  {
   "cell_type": "code",
   "execution_count": 6,
   "metadata": {},
   "outputs": [
    {
     "data": {
      "text/plain": [
       "array(['A', 'A', 'A', 'A', 'A', 'A', 'A', 'A', 'A', 'B', 'A', 'A', 'A',\n",
       "       'A', 'A', 'A', 'A', 'B', 'A', 'A', 'B', 'B', 'A', 'A', 'A', 'A',\n",
       "       'B', 'A', 'A', 'A', 'A', 'A', 'A', 'A', 'B', 'A', 'C', 'A', 'B',\n",
       "       'A', 'A', 'A', 'A', 'B', 'B', 'B', 'A', 'A', 'A', 'A', 'A', 'B',\n",
       "       'A', 'A', 'A', 'C', 'A', 'A', 'A', 'B', 'A', 'A', 'A', 'B', 'A',\n",
       "       'A', 'B', 'A', 'B', 'A', 'B', 'A', 'B', 'A', 'A', 'A', 'A', 'A',\n",
       "       'A', 'A', 'A', 'A', 'A', 'A', 'A', 'A', 'A', 'A', 'A', 'A', 'A',\n",
       "       'A', 'B', 'A', 'B', 'A', 'A', 'A', 'A', 'A', 'A', 'B', 'A', 'A',\n",
       "       'A', 'A', 'C', 'A', 'A', 'A', 'A', 'A', 'A', 'A', 'A', 'B', 'B',\n",
       "       'A', 'A', 'A', 'A', 'A', 'A', 'A', 'A', 'B', 'B', 'A', 'A', 'A',\n",
       "       'A', 'B', 'A', 'A', 'C', 'A', 'A', 'A', 'C', 'A', 'A', 'A', 'A',\n",
       "       'A', 'C', 'A', 'A', 'A', 'A', 'A', 'A', 'A', 'A', 'A', 'A', 'B',\n",
       "       'B', 'A', 'A', 'B', 'A', 'A', 'B', 'B', 'A', 'B', 'A', 'A', 'A',\n",
       "       'A', 'A', 'A', 'A', 'A', 'A', 'A', 'A', 'B', 'B', 'A', 'C', 'A',\n",
       "       'B', 'B', 'A', 'A', 'A', 'A', 'B', 'A', 'A', 'A', 'A', 'A', 'A',\n",
       "       'A', 'A', 'B', 'A', 'A'], dtype='<U1')"
      ]
     },
     "execution_count": 6,
     "metadata": {},
     "output_type": "execute_result"
    }
   ],
   "source": [
    "# ABC classification has a Pareto distribution\n",
    "# Adapted from https:https://pynative.com/python-random-choice/\n",
    "# 20% of materials are of class A however generate 80% of sales volume with the remaining 20% split between B & C\n",
    "\n",
    "abc_sv = np.random.choice(a = abc,  p=[0.8, 0.15, 0.05], size = mat)\n",
    "abc_sv"
   ]
  },
  {
   "cell_type": "markdown",
   "metadata": {},
   "source": [
    "### Variable 2:  Distribution time in days to the distribution centre\n",
    "This relates to the transportation time from the manufacturer to the distribution centres.  The time in days has been set at 5 to a range of distribution centres across the globe.  A combination of air, sea and road freight is used.  Established channels are used and contracts negociated to ensure global consistency of 5 working days or 1 week."
   ]
  },
  {
   "cell_type": "code",
   "execution_count": 7,
   "metadata": {},
   "outputs": [
    {
     "data": {
      "text/plain": [
       "array([5., 5., 5., 5., 5., 5., 5., 5., 5., 4., 5., 5., 5., 5., 5., 5., 5.,\n",
       "       5., 5., 5., 5., 5., 5., 5., 6., 5., 5., 5., 5., 5., 6., 5., 5., 5.,\n",
       "       5., 5., 5., 5., 5., 5., 5., 5., 5., 5., 5., 5., 5., 5., 5., 5., 5.,\n",
       "       5., 5., 5., 5., 5., 5., 5., 5., 5., 5., 5., 5., 5., 5., 5., 5., 5.,\n",
       "       5., 5., 5., 5., 5., 5., 5., 5., 5., 5., 5., 5., 5., 5., 5., 5., 5.,\n",
       "       5., 5., 5., 5., 5., 4., 5., 5., 5., 5., 5., 5., 5., 4., 5., 4., 5.,\n",
       "       5., 5., 5., 5., 5., 5., 5., 5., 5., 5., 5., 5., 5., 5., 5., 5., 4.,\n",
       "       5., 5., 5., 5., 5., 5., 5., 5., 5., 4., 5., 5., 5., 5., 5., 5., 5.,\n",
       "       5., 5., 5., 5., 4., 6., 5., 5., 5., 5., 5., 5., 5., 5., 5., 5., 5.,\n",
       "       5., 5., 5., 5., 5., 5., 5., 5., 5., 5., 5., 5., 5., 5., 5., 5., 5.,\n",
       "       5., 5., 5., 5., 5., 5., 5., 5., 5., 5., 5., 5., 5., 5., 5., 5., 5.,\n",
       "       5., 5., 5., 5., 5., 6., 5., 5., 5., 5., 5., 5., 5.])"
      ]
     },
     "execution_count": 7,
     "metadata": {},
     "output_type": "execute_result"
    }
   ],
   "source": [
    "# Distribution time (in days) to Distribution centres\n",
    "# Adapted from https://docs.scipy.org/doc/numpy-1.15.0/reference/generated/numpy.random.normal.html\n",
    "# There is some variation but generally the 5 days is adhered to\n",
    "# mean and standard deviation\n",
    "mu, sigma = 5, .3\n",
    "dist_time = np.random.normal(mu, sigma, mat)\n",
    "# Adapted from https://docs.scipy.org/doc/numpy/reference/generated/numpy.around.html\n",
    "dist_time = np.around(dist_time, 0)\n",
    "dist_time"
   ]
  },
  {
   "cell_type": "markdown",
   "metadata": {},
   "source": [
    "### Variable 3:  Cycle time at the Manufacturer (in days)\n",
    "This relates to the manufacturers ability to manufacture the forecast set.  This also follows a normal distribution but is more widely spread as issues occur with external suppliers e.g quality issues and internally with yield etc.  All products are manufactured from similar components from bespoke suppliers."
   ]
  },
  {
   "cell_type": "code",
   "execution_count": 8,
   "metadata": {},
   "outputs": [
    {
     "data": {
      "text/plain": [
       "array([6.2, 7.5, 4.2, 6.6, 5. , 5.2, 5.3, 7.3, 6. , 5.5, 6.3, 5.8, 5.2,\n",
       "       7.1, 7.7, 8. , 6. , 2.5, 6. , 4.5, 5.7, 5.5, 7.1, 5.4, 6.2, 4.9,\n",
       "       5.9, 6.8, 6.6, 7.2, 6.4, 6.7, 5.8, 4.8, 6.4, 5.8, 4.1, 6.7, 7.5,\n",
       "       6.5, 6.5, 5.7, 4.8, 6.6, 5.4, 3.6, 5.5, 6.8, 6. , 7.5, 6.4, 4.8,\n",
       "       6.3, 6.3, 5.7, 6.3, 6.4, 6.5, 7.1, 6.4, 6.1, 5.1, 5.1, 5.4, 5. ,\n",
       "       5.9, 6.2, 5.2, 6.5, 5.1, 7.7, 7.6, 6.6, 5.2, 6.1, 5.7, 4.8, 8.4,\n",
       "       5.8, 6.2, 5.6, 7.1, 6.3, 6.2, 6.6, 6.6, 6.1, 6.4, 6.7, 5.1, 3.7,\n",
       "       7.4, 4.6, 4.9, 5.5, 3.9, 5.8, 7. , 5.2, 4.8, 5.8, 4.8, 6.3, 6.2,\n",
       "       6.7, 5.9, 5.1, 5.6, 4.3, 5.9, 3.9, 7. , 4.9, 6.6, 6.1, 6.9, 6.1,\n",
       "       4.6, 5.9, 4.7, 5.9, 5. , 6.3, 6.1, 4.9, 7.1, 4.8, 6.7, 6. , 5.7,\n",
       "       6.2, 6.8, 4.8, 5.6, 5.8, 6.4, 6. , 7.4, 6.8, 6.1, 5.4, 5. , 6.1,\n",
       "       5.4, 6.2, 9.4, 5.1, 4.6, 5.2, 6.2, 4.7, 6.8, 6.3, 4.3, 6.2, 5.4,\n",
       "       6. , 6.8, 5.1, 5.9, 4.6, 7.8, 6.7, 7.2, 5.1, 7.5, 4.8, 7.2, 6.5,\n",
       "       6.3, 4. , 5.3, 6.5, 7.1, 5.5, 5.5, 5.2, 5.1, 4.1, 6.3, 5.1, 6.2,\n",
       "       6.1, 6.2, 5.3, 7. , 6.6, 5.7, 6. , 5.4, 5.3, 5.8, 6.8, 6.5, 6.1,\n",
       "       7.2, 6.2, 6.4, 6. , 6. ])"
      ]
     },
     "execution_count": 8,
     "metadata": {},
     "output_type": "execute_result"
    }
   ],
   "source": [
    "# Adapted from https://docs.scipy.org/doc/numpy-1.15.0/reference/generated/numpy.random.normal.html\n",
    "mu_c, sigma_c = 6, 1 # mean and standard deviation\n",
    "cyc_time = np.random.normal(mu_c, sigma_c, mat)\n",
    "# Adapted from https://docs.scipy.org/doc/numpy/reference/generated/numpy.around.html\n",
    "cyc_time = np.around(cyc_time, 1)\n",
    "cyc_time"
   ]
  },
  {
   "cell_type": "code",
   "execution_count": 9,
   "metadata": {},
   "outputs": [
    {
     "data": {
      "text/html": [
       "<div>\n",
       "<style scoped>\n",
       "    .dataframe tbody tr th:only-of-type {\n",
       "        vertical-align: middle;\n",
       "    }\n",
       "\n",
       "    .dataframe tbody tr th {\n",
       "        vertical-align: top;\n",
       "    }\n",
       "\n",
       "    .dataframe thead th {\n",
       "        text-align: right;\n",
       "    }\n",
       "</style>\n",
       "<table border=\"1\" class=\"dataframe\">\n",
       "  <thead>\n",
       "    <tr style=\"text-align: right;\">\n",
       "      <th></th>\n",
       "      <th>Category</th>\n",
       "      <th>Ship_Days</th>\n",
       "      <th>Mfg_Days</th>\n",
       "    </tr>\n",
       "  </thead>\n",
       "  <tbody>\n",
       "    <tr>\n",
       "      <td>0</td>\n",
       "      <td>B</td>\n",
       "      <td>5.0</td>\n",
       "      <td>6.2</td>\n",
       "    </tr>\n",
       "    <tr>\n",
       "      <td>1</td>\n",
       "      <td>A</td>\n",
       "      <td>5.0</td>\n",
       "      <td>7.5</td>\n",
       "    </tr>\n",
       "    <tr>\n",
       "      <td>2</td>\n",
       "      <td>B</td>\n",
       "      <td>5.0</td>\n",
       "      <td>4.2</td>\n",
       "    </tr>\n",
       "    <tr>\n",
       "      <td>3</td>\n",
       "      <td>C</td>\n",
       "      <td>5.0</td>\n",
       "      <td>6.6</td>\n",
       "    </tr>\n",
       "    <tr>\n",
       "      <td>4</td>\n",
       "      <td>B</td>\n",
       "      <td>5.0</td>\n",
       "      <td>5.0</td>\n",
       "    </tr>\n",
       "    <tr>\n",
       "      <td>...</td>\n",
       "      <td>...</td>\n",
       "      <td>...</td>\n",
       "      <td>...</td>\n",
       "    </tr>\n",
       "    <tr>\n",
       "      <td>195</td>\n",
       "      <td>A</td>\n",
       "      <td>5.0</td>\n",
       "      <td>7.2</td>\n",
       "    </tr>\n",
       "    <tr>\n",
       "      <td>196</td>\n",
       "      <td>C</td>\n",
       "      <td>5.0</td>\n",
       "      <td>6.2</td>\n",
       "    </tr>\n",
       "    <tr>\n",
       "      <td>197</td>\n",
       "      <td>B</td>\n",
       "      <td>5.0</td>\n",
       "      <td>6.4</td>\n",
       "    </tr>\n",
       "    <tr>\n",
       "      <td>198</td>\n",
       "      <td>C</td>\n",
       "      <td>5.0</td>\n",
       "      <td>6.0</td>\n",
       "    </tr>\n",
       "    <tr>\n",
       "      <td>199</td>\n",
       "      <td>B</td>\n",
       "      <td>5.0</td>\n",
       "      <td>6.0</td>\n",
       "    </tr>\n",
       "  </tbody>\n",
       "</table>\n",
       "<p>200 rows × 3 columns</p>\n",
       "</div>"
      ],
      "text/plain": [
       "    Category  Ship_Days  Mfg_Days\n",
       "0          B        5.0       6.2\n",
       "1          A        5.0       7.5\n",
       "2          B        5.0       4.2\n",
       "3          C        5.0       6.6\n",
       "4          B        5.0       5.0\n",
       "..       ...        ...       ...\n",
       "195        A        5.0       7.2\n",
       "196        C        5.0       6.2\n",
       "197        B        5.0       6.4\n",
       "198        C        5.0       6.0\n",
       "199        B        5.0       6.0\n",
       "\n",
       "[200 rows x 3 columns]"
      ]
     },
     "execution_count": 9,
     "metadata": {},
     "output_type": "execute_result"
    }
   ],
   "source": [
    "df = pd.DataFrame({'Category': abc_class,'Ship_Days': dist_time,'Mfg_Days': cyc_time})\n",
    "df"
   ]
  },
  {
   "cell_type": "markdown",
   "metadata": {},
   "source": [
    "### Variable 4:  Forecast set by Global Planning\n",
    "This relates to the manufacturers ability to manufacture the forecast set.  "
   ]
  },
  {
   "cell_type": "code",
   "execution_count": 10,
   "metadata": {},
   "outputs": [],
   "source": [
    "# Adapted from https://datatofish.com/if-condition-in-pandas-dataframe/\n",
    "df.loc[df.Category == 'A', 'Mthly_Forecast'] = 1000\n",
    "df.loc[df.Category == 'B', 'Mthly_Forecast'] = 100\n",
    "df.loc[df.Category == 'C', 'Mthly_Forecast'] = 10"
   ]
  },
  {
   "cell_type": "markdown",
   "metadata": {},
   "source": [
    "Safety stock formula:Safety stock = (Maximum daily usage * Maximum lead time in days) – (Average daily usage * Average lead time in days)."
   ]
  },
  {
   "cell_type": "markdown",
   "metadata": {},
   "source": [
    "### Variable 5:  Safety Stocks\n",
    "Safety stocks cover unexpected demand or difficuties at the manufacturer.  Safety stocks tie up company money therefore potentially limiting future performance as money is not available to invest.  Safety stocks are straightforware - they cover shipping and manufacturing days and one week for risk."
   ]
  },
  {
   "cell_type": "code",
   "execution_count": 11,
   "metadata": {},
   "outputs": [
    {
     "data": {
      "text/html": [
       "<div>\n",
       "<style scoped>\n",
       "    .dataframe tbody tr th:only-of-type {\n",
       "        vertical-align: middle;\n",
       "    }\n",
       "\n",
       "    .dataframe tbody tr th {\n",
       "        vertical-align: top;\n",
       "    }\n",
       "\n",
       "    .dataframe thead th {\n",
       "        text-align: right;\n",
       "    }\n",
       "</style>\n",
       "<table border=\"1\" class=\"dataframe\">\n",
       "  <thead>\n",
       "    <tr style=\"text-align: right;\">\n",
       "      <th></th>\n",
       "      <th>Category</th>\n",
       "      <th>Ship_Days</th>\n",
       "      <th>Mfg_Days</th>\n",
       "      <th>Mthly_Forecast</th>\n",
       "      <th>Safety_Stock</th>\n",
       "    </tr>\n",
       "  </thead>\n",
       "  <tbody>\n",
       "    <tr>\n",
       "      <td>0</td>\n",
       "      <td>B</td>\n",
       "      <td>5.0</td>\n",
       "      <td>6.2</td>\n",
       "      <td>100.0</td>\n",
       "      <td>67.0</td>\n",
       "    </tr>\n",
       "    <tr>\n",
       "      <td>1</td>\n",
       "      <td>A</td>\n",
       "      <td>5.0</td>\n",
       "      <td>7.5</td>\n",
       "      <td>1000.0</td>\n",
       "      <td>670.0</td>\n",
       "    </tr>\n",
       "    <tr>\n",
       "      <td>2</td>\n",
       "      <td>B</td>\n",
       "      <td>5.0</td>\n",
       "      <td>4.2</td>\n",
       "      <td>100.0</td>\n",
       "      <td>67.0</td>\n",
       "    </tr>\n",
       "    <tr>\n",
       "      <td>3</td>\n",
       "      <td>C</td>\n",
       "      <td>5.0</td>\n",
       "      <td>6.6</td>\n",
       "      <td>10.0</td>\n",
       "      <td>6.7</td>\n",
       "    </tr>\n",
       "    <tr>\n",
       "      <td>4</td>\n",
       "      <td>B</td>\n",
       "      <td>5.0</td>\n",
       "      <td>5.0</td>\n",
       "      <td>100.0</td>\n",
       "      <td>67.0</td>\n",
       "    </tr>\n",
       "    <tr>\n",
       "      <td>...</td>\n",
       "      <td>...</td>\n",
       "      <td>...</td>\n",
       "      <td>...</td>\n",
       "      <td>...</td>\n",
       "      <td>...</td>\n",
       "    </tr>\n",
       "    <tr>\n",
       "      <td>195</td>\n",
       "      <td>A</td>\n",
       "      <td>5.0</td>\n",
       "      <td>7.2</td>\n",
       "      <td>1000.0</td>\n",
       "      <td>670.0</td>\n",
       "    </tr>\n",
       "    <tr>\n",
       "      <td>196</td>\n",
       "      <td>C</td>\n",
       "      <td>5.0</td>\n",
       "      <td>6.2</td>\n",
       "      <td>10.0</td>\n",
       "      <td>6.7</td>\n",
       "    </tr>\n",
       "    <tr>\n",
       "      <td>197</td>\n",
       "      <td>B</td>\n",
       "      <td>5.0</td>\n",
       "      <td>6.4</td>\n",
       "      <td>100.0</td>\n",
       "      <td>67.0</td>\n",
       "    </tr>\n",
       "    <tr>\n",
       "      <td>198</td>\n",
       "      <td>C</td>\n",
       "      <td>5.0</td>\n",
       "      <td>6.0</td>\n",
       "      <td>10.0</td>\n",
       "      <td>6.7</td>\n",
       "    </tr>\n",
       "    <tr>\n",
       "      <td>199</td>\n",
       "      <td>B</td>\n",
       "      <td>5.0</td>\n",
       "      <td>6.0</td>\n",
       "      <td>100.0</td>\n",
       "      <td>67.0</td>\n",
       "    </tr>\n",
       "  </tbody>\n",
       "</table>\n",
       "<p>200 rows × 5 columns</p>\n",
       "</div>"
      ],
      "text/plain": [
       "    Category  Ship_Days  Mfg_Days  Mthly_Forecast  Safety_Stock\n",
       "0          B        5.0       6.2           100.0          67.0\n",
       "1          A        5.0       7.5          1000.0         670.0\n",
       "2          B        5.0       4.2           100.0          67.0\n",
       "3          C        5.0       6.6            10.0           6.7\n",
       "4          B        5.0       5.0           100.0          67.0\n",
       "..       ...        ...       ...             ...           ...\n",
       "195        A        5.0       7.2          1000.0         670.0\n",
       "196        C        5.0       6.2            10.0           6.7\n",
       "197        B        5.0       6.4           100.0          67.0\n",
       "198        C        5.0       6.0            10.0           6.7\n",
       "199        B        5.0       6.0           100.0          67.0\n",
       "\n",
       "[200 rows x 5 columns]"
      ]
     },
     "execution_count": 11,
     "metadata": {},
     "output_type": "execute_result"
    }
   ],
   "source": [
    "# Add safety stock - 3 weeks sales i.e 67% of Mthly_Forecast\n",
    "# Adapted from https://www.geeksforgeeks.org/adding-new-column-to-existing-dataframe-in-pandas/\n",
    "df2 = df.assign(Safety_Stock = df.Mthly_Forecast * .67)\n",
    "df2"
   ]
  },
  {
   "cell_type": "markdown",
   "metadata": {},
   "source": [
    "#### Bring in Actual Sales for Comparison purposes"
   ]
  },
  {
   "cell_type": "code",
   "execution_count": 12,
   "metadata": {},
   "outputs": [
    {
     "data": {
      "text/html": [
       "<div>\n",
       "<style scoped>\n",
       "    .dataframe tbody tr th:only-of-type {\n",
       "        vertical-align: middle;\n",
       "    }\n",
       "\n",
       "    .dataframe tbody tr th {\n",
       "        vertical-align: top;\n",
       "    }\n",
       "\n",
       "    .dataframe thead th {\n",
       "        text-align: right;\n",
       "    }\n",
       "</style>\n",
       "<table border=\"1\" class=\"dataframe\">\n",
       "  <thead>\n",
       "    <tr style=\"text-align: right;\">\n",
       "      <th></th>\n",
       "      <th>Category</th>\n",
       "      <th>Ship_Days</th>\n",
       "      <th>Mfg_Days</th>\n",
       "      <th>Mthly_Forecast</th>\n",
       "      <th>Safety_Stock</th>\n",
       "      <th>Actual Sales</th>\n",
       "    </tr>\n",
       "  </thead>\n",
       "  <tbody>\n",
       "    <tr>\n",
       "      <td>0</td>\n",
       "      <td>B</td>\n",
       "      <td>5.0</td>\n",
       "      <td>6.2</td>\n",
       "      <td>100.0</td>\n",
       "      <td>67.0</td>\n",
       "      <td>120.0</td>\n",
       "    </tr>\n",
       "    <tr>\n",
       "      <td>1</td>\n",
       "      <td>A</td>\n",
       "      <td>5.0</td>\n",
       "      <td>7.5</td>\n",
       "      <td>1000.0</td>\n",
       "      <td>670.0</td>\n",
       "      <td>1090.0</td>\n",
       "    </tr>\n",
       "    <tr>\n",
       "      <td>2</td>\n",
       "      <td>B</td>\n",
       "      <td>5.0</td>\n",
       "      <td>4.2</td>\n",
       "      <td>100.0</td>\n",
       "      <td>67.0</td>\n",
       "      <td>120.0</td>\n",
       "    </tr>\n",
       "    <tr>\n",
       "      <td>3</td>\n",
       "      <td>C</td>\n",
       "      <td>5.0</td>\n",
       "      <td>6.6</td>\n",
       "      <td>10.0</td>\n",
       "      <td>6.7</td>\n",
       "      <td>15.0</td>\n",
       "    </tr>\n",
       "    <tr>\n",
       "      <td>4</td>\n",
       "      <td>B</td>\n",
       "      <td>5.0</td>\n",
       "      <td>5.0</td>\n",
       "      <td>100.0</td>\n",
       "      <td>67.0</td>\n",
       "      <td>120.0</td>\n",
       "    </tr>\n",
       "    <tr>\n",
       "      <td>...</td>\n",
       "      <td>...</td>\n",
       "      <td>...</td>\n",
       "      <td>...</td>\n",
       "      <td>...</td>\n",
       "      <td>...</td>\n",
       "      <td>...</td>\n",
       "    </tr>\n",
       "    <tr>\n",
       "      <td>195</td>\n",
       "      <td>A</td>\n",
       "      <td>5.0</td>\n",
       "      <td>7.2</td>\n",
       "      <td>1000.0</td>\n",
       "      <td>670.0</td>\n",
       "      <td>1090.0</td>\n",
       "    </tr>\n",
       "    <tr>\n",
       "      <td>196</td>\n",
       "      <td>C</td>\n",
       "      <td>5.0</td>\n",
       "      <td>6.2</td>\n",
       "      <td>10.0</td>\n",
       "      <td>6.7</td>\n",
       "      <td>15.0</td>\n",
       "    </tr>\n",
       "    <tr>\n",
       "      <td>197</td>\n",
       "      <td>B</td>\n",
       "      <td>5.0</td>\n",
       "      <td>6.4</td>\n",
       "      <td>100.0</td>\n",
       "      <td>67.0</td>\n",
       "      <td>120.0</td>\n",
       "    </tr>\n",
       "    <tr>\n",
       "      <td>198</td>\n",
       "      <td>C</td>\n",
       "      <td>5.0</td>\n",
       "      <td>6.0</td>\n",
       "      <td>10.0</td>\n",
       "      <td>6.7</td>\n",
       "      <td>15.0</td>\n",
       "    </tr>\n",
       "    <tr>\n",
       "      <td>199</td>\n",
       "      <td>B</td>\n",
       "      <td>5.0</td>\n",
       "      <td>6.0</td>\n",
       "      <td>100.0</td>\n",
       "      <td>67.0</td>\n",
       "      <td>120.0</td>\n",
       "    </tr>\n",
       "  </tbody>\n",
       "</table>\n",
       "<p>200 rows × 6 columns</p>\n",
       "</div>"
      ],
      "text/plain": [
       "    Category  Ship_Days  Mfg_Days  Mthly_Forecast  Safety_Stock  Actual Sales\n",
       "0          B        5.0       6.2           100.0          67.0         120.0\n",
       "1          A        5.0       7.5          1000.0         670.0        1090.0\n",
       "2          B        5.0       4.2           100.0          67.0         120.0\n",
       "3          C        5.0       6.6            10.0           6.7          15.0\n",
       "4          B        5.0       5.0           100.0          67.0         120.0\n",
       "..       ...        ...       ...             ...           ...           ...\n",
       "195        A        5.0       7.2          1000.0         670.0        1090.0\n",
       "196        C        5.0       6.2            10.0           6.7          15.0\n",
       "197        B        5.0       6.4           100.0          67.0         120.0\n",
       "198        C        5.0       6.0            10.0           6.7          15.0\n",
       "199        B        5.0       6.0           100.0          67.0         120.0\n",
       "\n",
       "[200 rows x 6 columns]"
      ]
     },
     "execution_count": 12,
     "metadata": {},
     "output_type": "execute_result"
    }
   ],
   "source": [
    "# Adapted from https://datatofish.com/if-condition-in-pandas-dataframe/\n",
    "df2.loc[df.Category == 'A', 'Actual Sales'] = 1090\n",
    "df2.loc[df.Category == 'B', 'Actual Sales'] = 120\n",
    "df2.loc[df.Category == 'C', 'Actual Sales'] = 15\n",
    "df2"
   ]
  },
  {
   "cell_type": "markdown",
   "metadata": {},
   "source": [
    "Dataset complete.  Time to analyse"
   ]
  },
  {
   "cell_type": "code",
   "execution_count": 13,
   "metadata": {},
   "outputs": [],
   "source": [
    "# Adapted from https://stackoverflow.com/questions/49609353/pandas-dataframe-to-csv-not-exporting-all-rows/53606044\n",
    "df2.to_csv(\"sc.csv\", index=False, sep=',', mode='w')"
   ]
  },
  {
   "cell_type": "code",
   "execution_count": 14,
   "metadata": {},
   "outputs": [],
   "source": [
    "sc = pd.read_csv(\"https://raw.githubusercontent.com/mhurley100/DA-Project-2019/master/sc.csv\", sep=',')"
   ]
  },
  {
   "cell_type": "code",
   "execution_count": 15,
   "metadata": {},
   "outputs": [
    {
     "data": {
      "text/plain": [
       "<bound method NDFrame.head of     ABC  Ship_Days  Mfg_Days  Mthly_Forecast  Safety_Stock  Actual Sales\n",
       "0     B        5.0       6.9           100.0          10.0         120.0\n",
       "1     C        5.0       5.9            10.0           1.0           9.0\n",
       "2     B        5.0       7.2           100.0          10.0         120.0\n",
       "3     C        5.0       5.6            10.0           1.0           9.0\n",
       "4     C        5.0       6.8            10.0           1.0           9.0\n",
       "..   ..        ...       ...             ...           ...           ...\n",
       "195   C        5.0       7.2            10.0           1.0           9.0\n",
       "196   B        5.0       7.4           100.0          10.0         120.0\n",
       "197   A        5.0       6.9          1000.0         100.0        1090.0\n",
       "198   A        5.0       7.6          1000.0         100.0        1090.0\n",
       "199   A        5.0       7.6          1000.0         100.0        1090.0\n",
       "\n",
       "[200 rows x 6 columns]>"
      ]
     },
     "execution_count": 15,
     "metadata": {},
     "output_type": "execute_result"
    }
   ],
   "source": [
    "sc.head"
   ]
  },
  {
   "cell_type": "code",
   "execution_count": null,
   "metadata": {},
   "outputs": [],
   "source": []
  },
  {
   "cell_type": "code",
   "execution_count": null,
   "metadata": {},
   "outputs": [],
   "source": []
  },
  {
   "cell_type": "markdown",
   "metadata": {},
   "source": [
    "## References\n",
    " - [1] Python Software Foundation. Welcome to python.org.   \n",
    "https://www.python.org/\n",
    " - [2] GMIT. Quality assurance framework.   \n",
    "https://www.gmit.ie/general/quality-assurance-framework\n",
    " - [3] Software Freedom Conservancy. Git.   \n",
    "https://git-scm.com/\n",
    " - [4] Project Jupyter. Project jupyter.    \n",
    "https://jupyter.org/\n",
    " - [5] NumPy developers. Numpy.    \n",
    "http://www.numpy.org/\n",
    " - [6] Clear Spider             \n",
    "https://www.clearspider.com/blog-reduce-inventory-shortages/\n",
    " - [7] University of New Brunswick, NB Canada Fredericton   \n",
    "http://www2.unb.ca/~ddu/4690/Lecture_notes/Lec2.pdf\n",
    " - [8] Buildmedia     \n",
    "https://buildmedia.readthedocs.org/media/pdf/supplychainpy/latest/supplychainpy.pdf\n",
    " - [9] Pynative             \n",
    "https://pynative.com/python-random-choice/\n",
    " - [10] Scipy          \n",
    " https://docs.scipy.org/doc/numpy-1.15.0/reference/generated/numpy.random.normal.html\n",
    " - [11] Wikipedia             \n",
    "https://en.wikipedia.org/wiki/ABC_analysis"
   ]
  },
  {
   "cell_type": "code",
   "execution_count": null,
   "metadata": {},
   "outputs": [],
   "source": []
  }
 ],
 "metadata": {
  "kernelspec": {
   "display_name": "Python 3",
   "language": "python",
   "name": "python3"
  },
  "language_info": {
   "codemirror_mode": {
    "name": "ipython",
    "version": 3
   },
   "file_extension": ".py",
   "mimetype": "text/x-python",
   "name": "python",
   "nbconvert_exporter": "python",
   "pygments_lexer": "ipython3",
   "version": "3.7.4"
  }
 },
 "nbformat": 4,
 "nbformat_minor": 2
}
