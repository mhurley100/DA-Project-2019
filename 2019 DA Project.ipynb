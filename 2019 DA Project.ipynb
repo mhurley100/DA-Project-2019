{
 "cells": [
  {
   "cell_type": "markdown",
   "metadata": {},
   "source": [
    "# 2019 DA Project"
   ]
  },
  {
   "cell_type": "markdown",
   "metadata": {},
   "source": [
    "## Project Plan\n",
    "\n",
    "- Choose a real world phenomenon\n",
    "- Research and understand the phenomenon\n",
    "- Identify variables \n",
    "- Match variables to a distribution\n",
    "- Analyse variables and their inter relationships\n",
    "- Devise an algorithm or method to synthesise those variables\n",
    "- Generate dataset"
   ]
  },
  {
   "cell_type": "markdown",
   "metadata": {},
   "source": [
    "## Introduction\n",
    "\n",
    "I have chosen Supply Chain inventory shortages as the real world phenomenon."
   ]
  },
  {
   "cell_type": "markdown",
   "metadata": {},
   "source": [
    "## Research\n",
    "Supply chains consist of suppliers and manufacturers, who convert raw materials into finished materials, distribution centres and warehouses, from which finished products are distributed to customers. Inventory appears in the supply chain in several forms.  The objective of inventory is to achieve satisfactory levels of customer service while keeping inventory costs within reasonable bounds.\n",
    "\n",
    "Safety stock (SS): stock that is held in excess of expected demand due to variable demand rate and/or variable lead time.\n",
    "\n",
    "ABC approach: Set up priorities for different items.\n",
    "Class A: high-revenue products: 80% annual sales and 20% inventory SKU’s: periodic review with shorter review time.\n",
    "Class B: medium-revenue products: 15% annual sales and 75% inventory SKU’s: periodic review with longer review time.\n",
    "Class C: low-revenue products: 5% annual sales and 5% inventory SKU’s: either no inventory or a high inventory of\n",
    "inexpensive products.[7]\n",
    "\n",
    "Product shortages results in lost customers and therefore revenue.  If a product is not on the shelf, customers look elsewhere.  To resolve product shortages, many companies increase safety stocks. As inventory budgets are targeted at finished products, this can result in reduced holdings of raw materials required to manufacture the finished products.[6]  This inhibits companies ability to respond to fluctuations in demand.  Is there a correlation between product shortages and safety stock?  Do other variables such as forecast, lead times, cycletime at the manufacturer etc have an impact?  The goal of this is to identify if safety stocks can be reduced to free up cash for the company.  Are there any dynamics that can help?"
   ]
  },
  {
   "cell_type": "markdown",
   "metadata": {},
   "source": [
    "## Variables\n",
    "\n",
    "Determine the variables:  \n",
    "\n",
    "Material:  The volume of material shortages\n",
    "\n",
    "ABC classification\n",
    "\n",
    "Safety Stock:  Safety Stock level\n",
    "\n",
    "Forecasts:  Manufacturer is provided with a forecast for the quarter.\n",
    "\n",
    "Lead time from the Manufacturer to the distribution centres.  \n",
    "\n",
    "Cycle time at manufacturer\n"
   ]
  },
  {
   "cell_type": "markdown",
   "metadata": {},
   "source": [
    "## Import Libriaries"
   ]
  },
  {
   "cell_type": "code",
   "execution_count": 1,
   "metadata": {},
   "outputs": [],
   "source": [
    "import numpy as np\n",
    "import pandas as pd\n",
    "import matplotlib.pyplot as plt\n",
    "import seaborn as sns"
   ]
  },
  {
   "cell_type": "markdown",
   "metadata": {},
   "source": [
    "## Match Variables to Distributions"
   ]
  },
  {
   "cell_type": "code",
   "execution_count": 2,
   "metadata": {},
   "outputs": [],
   "source": [
    "# 200 materials\n",
    "mat = 200\n",
    "# Sales volume is 10000 units\n",
    "sales_vol = 10000"
   ]
  },
  {
   "cell_type": "markdown",
   "metadata": {},
   "source": [
    "ABC class falls within the Pareto Distribution classification.\n",
    "The Pareto distribution is a skewed distribution and is also called as the '80-20 rule'. This distribution demonstrates inequity i.e. not all things are divided equally. 80% of values are in the 20% range with the remaining 20% in the 80% range. This is clearly illustrated when analysing distribution of wealth, output, population etc., for example 20% of the population have 80% of the wealth.  Similarly 20% of material with ABC class A record 80% of output."
   ]
  },
  {
   "cell_type": "code",
   "execution_count": 3,
   "metadata": {},
   "outputs": [],
   "source": [
    "abc = [\"A\", \"B\", \"C\"]"
   ]
  },
  {
   "cell_type": "code",
   "execution_count": 4,
   "metadata": {},
   "outputs": [
    {
     "data": {
      "text/plain": [
       "array(['B', 'C', 'A', 'A', 'B', 'C', 'C', 'C', 'C', 'B', 'B', 'C', 'A',\n",
       "       'B', 'B', 'C', 'C', 'B', 'A', 'C', 'C', 'C', 'C', 'C', 'B', 'C',\n",
       "       'C', 'B', 'C', 'B', 'C', 'A', 'A', 'C', 'C', 'C', 'C', 'B', 'C',\n",
       "       'C', 'B', 'B', 'C', 'C', 'A', 'A', 'B', 'A', 'B', 'A', 'A', 'C',\n",
       "       'C', 'B', 'A', 'C', 'A', 'C', 'A', 'B', 'C', 'C', 'B', 'A', 'C',\n",
       "       'B', 'C', 'C', 'C', 'C', 'C', 'B', 'C', 'C', 'C', 'C', 'C', 'C',\n",
       "       'C', 'C', 'A', 'C', 'C', 'B', 'A', 'C', 'C', 'B', 'B', 'C', 'B',\n",
       "       'C', 'C', 'C', 'C', 'B', 'C', 'B', 'A', 'B', 'A', 'A', 'B', 'C',\n",
       "       'C', 'C', 'A', 'A', 'C', 'A', 'C', 'C', 'B', 'C', 'B', 'A', 'C',\n",
       "       'C', 'C', 'B', 'B', 'C', 'C', 'B', 'C', 'B', 'B', 'C', 'B', 'C',\n",
       "       'C', 'B', 'C', 'B', 'A', 'C', 'C', 'A', 'C', 'C', 'C', 'C', 'C',\n",
       "       'A', 'B', 'B', 'A', 'A', 'C', 'C', 'C', 'C', 'C', 'A', 'B', 'A',\n",
       "       'A', 'C', 'A', 'A', 'B', 'B', 'C', 'B', 'B', 'B', 'A', 'A', 'C',\n",
       "       'B', 'C', 'C', 'A', 'B', 'C', 'B', 'C', 'B', 'C', 'B', 'C', 'C',\n",
       "       'B', 'B', 'C', 'A', 'B', 'B', 'A', 'B', 'C', 'C', 'B', 'B', 'B',\n",
       "       'C', 'B', 'B', 'C', 'C'], dtype='<U1')"
      ]
     },
     "execution_count": 4,
     "metadata": {},
     "output_type": "execute_result"
    }
   ],
   "source": [
    "# ABC classification has a Pareto distribution\n",
    "# Adapted from https:https://pynative.com/python-random-choice/\n",
    "# 20% of materials are of class A with the remaining 80% split between B & C\n",
    "abc_class = np.random.choice(a = abc,  p=[0.2, 0.30, 0.50], size = mat)\n",
    "abc_class"
   ]
  },
  {
   "cell_type": "code",
   "execution_count": 5,
   "metadata": {},
   "outputs": [
    {
     "data": {
      "text/plain": [
       "array(['A', 'A', 'A', 'A', 'A', 'A', 'A', 'A', 'A', 'B', 'A', 'A', 'A',\n",
       "       'A', 'A', 'A', 'C', 'A', 'A', 'C', 'B', 'B', 'A', 'A', 'A', 'A',\n",
       "       'C', 'A', 'A', 'B', 'B', 'B', 'B', 'A', 'A', 'B', 'A', 'B', 'A',\n",
       "       'A', 'A', 'A', 'A', 'C', 'A', 'A', 'A', 'C', 'A', 'A', 'A', 'A',\n",
       "       'B', 'A', 'A', 'B', 'A', 'A', 'A', 'A', 'A', 'B', 'A', 'A', 'A',\n",
       "       'A', 'A', 'B', 'A', 'A', 'A', 'A', 'C', 'B', 'B', 'B', 'A', 'A',\n",
       "       'A', 'C', 'A', 'A', 'A', 'A', 'B', 'A', 'B', 'A', 'A', 'A', 'A',\n",
       "       'A', 'A', 'A', 'A', 'A', 'A', 'B', 'A', 'A', 'A', 'A', 'A', 'A',\n",
       "       'A', 'A', 'A', 'A', 'B', 'A', 'A', 'A', 'A', 'A', 'C', 'A', 'A',\n",
       "       'A', 'B', 'A', 'A', 'A', 'B', 'A', 'A', 'A', 'A', 'A', 'B', 'A',\n",
       "       'A', 'A', 'A', 'C', 'A', 'A', 'C', 'A', 'A', 'A', 'A', 'A', 'A',\n",
       "       'A', 'A', 'A', 'A', 'A', 'A', 'A', 'A', 'A', 'B', 'A', 'B', 'A',\n",
       "       'A', 'B', 'A', 'A', 'A', 'A', 'A', 'B', 'A', 'A', 'B', 'A', 'A',\n",
       "       'A', 'A', 'A', 'A', 'A', 'A', 'A', 'C', 'A', 'C', 'A', 'A', 'A',\n",
       "       'A', 'A', 'A', 'A', 'A', 'A', 'C', 'B', 'A', 'A', 'A', 'A', 'A',\n",
       "       'A', 'A', 'A', 'A', 'A'], dtype='<U1')"
      ]
     },
     "execution_count": 5,
     "metadata": {},
     "output_type": "execute_result"
    }
   ],
   "source": [
    "# ABC classification has a Pareto distribution\n",
    "# Adapted from https:https://pynative.com/python-random-choice/\n",
    "# 20% of materials are of class A however generate 80% of sales volume with the remaining 20% split between B & C\n",
    "\n",
    "abc_sv = np.random.choice(a = abc,  p=[0.8, 0.15, 0.05], size = mat)\n",
    "abc_sv"
   ]
  },
  {
   "cell_type": "code",
   "execution_count": 6,
   "metadata": {},
   "outputs": [
    {
     "data": {
      "text/plain": [
       "array([5., 5., 5., 5., 5., 5., 5., 5., 5., 5., 5., 5., 5., 5., 5., 5., 5.,\n",
       "       5., 5., 5., 5., 5., 5., 5., 5., 5., 5., 5., 5., 5., 5., 5., 5., 5.,\n",
       "       5., 5., 5., 5., 5., 5., 5., 5., 5., 5., 5., 5., 5., 5., 5., 5., 5.,\n",
       "       5., 5., 5., 5., 5., 5., 5., 5., 5., 5., 5., 5., 5., 5., 5., 5., 5.,\n",
       "       5., 5., 5., 5., 5., 5., 5., 5., 5., 5., 5., 5., 5., 5., 5., 5., 5.,\n",
       "       5., 5., 5., 5., 5., 5., 5., 5., 5., 5., 5., 5., 5., 5., 5., 5., 5.,\n",
       "       5., 5., 5., 5., 5., 5., 5., 5., 5., 5., 5., 5., 5., 5., 5., 5., 5.,\n",
       "       5., 5., 5., 5., 5., 5., 5., 5., 5., 5., 5., 5., 5., 5., 5., 5., 5.,\n",
       "       5., 5., 5., 5., 5., 5., 5., 5., 5., 5., 5., 5., 5., 5., 5., 5., 5.,\n",
       "       5., 5., 5., 5., 5., 5., 5., 5., 5., 5., 5., 5., 5., 5., 5., 5., 5.,\n",
       "       5., 5., 5., 5., 5., 5., 5., 5., 5., 5., 5., 5., 5., 5., 5., 5., 5.,\n",
       "       5., 5., 5., 5., 5., 5., 5., 5., 5., 5., 5., 5., 5.])"
      ]
     },
     "execution_count": 6,
     "metadata": {},
     "output_type": "execute_result"
    }
   ],
   "source": [
    "# Distribution time (in days) to Distribution centres\n",
    "# Adapted from https://docs.scipy.org/doc/numpy-1.15.0/reference/generated/numpy.random.normal.html\n",
    "mu, sigma = 5, .1 # mean and standard deviation\n",
    "dist_time = np.random.normal(mu, sigma, mat)\n",
    "# Adapted from https://docs.scipy.org/doc/numpy/reference/generated/numpy.around.html\n",
    "dist_time = np.around(dist_time, 0)\n",
    "dist_time"
   ]
  },
  {
   "cell_type": "code",
   "execution_count": 7,
   "metadata": {},
   "outputs": [
    {
     "data": {
      "text/plain": [
       "array([ 7.3,  4.8,  5. ,  5.9,  6.6,  7.4,  5.3,  5.3,  7.2,  6.1,  7.1,\n",
       "        7.8,  6.9,  5.6,  5.4,  5.2,  6.2,  7.3,  5.5,  5. ,  4.7,  6.3,\n",
       "        7. ,  7.5,  6.7,  5.1,  7.2,  7.2,  4.8,  6.2,  6.3,  6.2,  6.9,\n",
       "        6.4,  5.8,  6.1,  4.6,  6.1,  5.2,  5.6,  5.3,  5.2,  4. ,  6.3,\n",
       "        5.9,  6.7,  5.3,  6.1,  4.8,  6.9,  4.7,  4.4,  5.2,  3.5,  8. ,\n",
       "        6.6,  5.7,  6.3,  6.6,  4.4,  6. ,  4.5,  5.6,  7.2,  7.3,  7.8,\n",
       "        5.7,  5. ,  7.5,  4.9,  6. ,  5.8,  6.8,  5. ,  5.6,  5.2,  5.3,\n",
       "        6.4,  7.2,  6.3,  6.1,  6.6,  5.2,  7.7,  6.5,  7.5,  6.9,  7.1,\n",
       "        5.5,  5.4,  4.7,  7.8,  6.1,  5.2,  5.7,  5.6,  5.1,  6.1,  4.6,\n",
       "        5.4,  5. ,  4. ,  5.3,  5.6,  5.5,  5.4,  4.6,  5.5,  6.1,  7.4,\n",
       "        6.9,  6.1,  5.9,  5.5,  5.8,  5. ,  5.7,  8.1,  4.6,  6.8,  6.1,\n",
       "        3.4,  5.7,  7.3,  5.8,  4.7,  6. ,  7.1,  5.8,  6.1,  7.3,  6.1,\n",
       "        6.4,  4.7,  4.4,  7.1,  4.2,  5. ,  7.2,  6.5,  6.7,  5.7,  8.2,\n",
       "        6.8,  5.9,  6.8,  6.3,  6.4,  7.4,  4.2,  7.5,  6.7,  7. ,  5.6,\n",
       "        6.5,  5.9,  4.7,  4.2,  5.6,  6.9,  6.6,  6.2,  5.3,  4.4,  6.3,\n",
       "        8.3,  6.5,  4.2, 10.6,  6.4,  6.2,  7.6,  7.7,  4.3,  5.8,  6.3,\n",
       "        6.2,  7. ,  5.3,  7.2,  7.8,  7.5,  3.1,  7.2,  5.8,  4.8,  7. ,\n",
       "        6.2,  4.1,  6.3,  7.2,  7.2,  6.2,  7.1,  5.4,  5.4,  6.9,  4.6,\n",
       "        7.2,  6.4])"
      ]
     },
     "execution_count": 7,
     "metadata": {},
     "output_type": "execute_result"
    }
   ],
   "source": [
    "# Cycle time at the Manufacturer (in days) to Distribution centres\n",
    "# Adapted from https://docs.scipy.org/doc/numpy-1.15.0/reference/generated/numpy.random.normal.html\n",
    "mu_c, sigma_c = 6, 1 # mean and standard deviation\n",
    "cyc_time = np.random.normal(mu_c, sigma_c, mat)\n",
    "# Adapted from https://docs.scipy.org/doc/numpy/reference/generated/numpy.around.html\n",
    "cyc_time = np.around(cyc_time, 1)\n",
    "cyc_time"
   ]
  },
  {
   "cell_type": "markdown",
   "metadata": {},
   "source": [
    "#### Forecast or demand"
   ]
  },
  {
   "cell_type": "code",
   "execution_count": null,
   "metadata": {},
   "outputs": [],
   "source": []
  },
  {
   "cell_type": "markdown",
   "metadata": {},
   "source": [
    "Safety stock formula:Safety stock = (Maximum daily usage * Maximum lead time in days) – (Average daily usage * Average lead time in days).\n"
   ]
  },
  {
   "cell_type": "code",
   "execution_count": null,
   "metadata": {},
   "outputs": [],
   "source": []
  },
  {
   "cell_type": "code",
   "execution_count": null,
   "metadata": {},
   "outputs": [],
   "source": []
  },
  {
   "cell_type": "code",
   "execution_count": null,
   "metadata": {},
   "outputs": [],
   "source": []
  },
  {
   "cell_type": "code",
   "execution_count": null,
   "metadata": {},
   "outputs": [],
   "source": []
  },
  {
   "cell_type": "code",
   "execution_count": null,
   "metadata": {},
   "outputs": [],
   "source": []
  },
  {
   "cell_type": "code",
   "execution_count": null,
   "metadata": {},
   "outputs": [],
   "source": []
  },
  {
   "cell_type": "code",
   "execution_count": null,
   "metadata": {},
   "outputs": [],
   "source": []
  },
  {
   "cell_type": "code",
   "execution_count": null,
   "metadata": {},
   "outputs": [],
   "source": []
  },
  {
   "cell_type": "code",
   "execution_count": 8,
   "metadata": {},
   "outputs": [
    {
     "data": {
      "text/html": [
       "<div>\n",
       "<style scoped>\n",
       "    .dataframe tbody tr th:only-of-type {\n",
       "        vertical-align: middle;\n",
       "    }\n",
       "\n",
       "    .dataframe tbody tr th {\n",
       "        vertical-align: top;\n",
       "    }\n",
       "\n",
       "    .dataframe thead th {\n",
       "        text-align: right;\n",
       "    }\n",
       "</style>\n",
       "<table border=\"1\" class=\"dataframe\">\n",
       "  <thead>\n",
       "    <tr style=\"text-align: right;\">\n",
       "      <th></th>\n",
       "      <th>ABC</th>\n",
       "      <th>Ship_Days</th>\n",
       "      <th>Mfg_Days</th>\n",
       "    </tr>\n",
       "  </thead>\n",
       "  <tbody>\n",
       "    <tr>\n",
       "      <td>0</td>\n",
       "      <td>B</td>\n",
       "      <td>5.0</td>\n",
       "      <td>7.3</td>\n",
       "    </tr>\n",
       "    <tr>\n",
       "      <td>1</td>\n",
       "      <td>C</td>\n",
       "      <td>5.0</td>\n",
       "      <td>4.8</td>\n",
       "    </tr>\n",
       "    <tr>\n",
       "      <td>2</td>\n",
       "      <td>A</td>\n",
       "      <td>5.0</td>\n",
       "      <td>5.0</td>\n",
       "    </tr>\n",
       "    <tr>\n",
       "      <td>3</td>\n",
       "      <td>A</td>\n",
       "      <td>5.0</td>\n",
       "      <td>5.9</td>\n",
       "    </tr>\n",
       "    <tr>\n",
       "      <td>4</td>\n",
       "      <td>B</td>\n",
       "      <td>5.0</td>\n",
       "      <td>6.6</td>\n",
       "    </tr>\n",
       "    <tr>\n",
       "      <td>...</td>\n",
       "      <td>...</td>\n",
       "      <td>...</td>\n",
       "      <td>...</td>\n",
       "    </tr>\n",
       "    <tr>\n",
       "      <td>195</td>\n",
       "      <td>C</td>\n",
       "      <td>5.0</td>\n",
       "      <td>5.4</td>\n",
       "    </tr>\n",
       "    <tr>\n",
       "      <td>196</td>\n",
       "      <td>B</td>\n",
       "      <td>5.0</td>\n",
       "      <td>6.9</td>\n",
       "    </tr>\n",
       "    <tr>\n",
       "      <td>197</td>\n",
       "      <td>B</td>\n",
       "      <td>5.0</td>\n",
       "      <td>4.6</td>\n",
       "    </tr>\n",
       "    <tr>\n",
       "      <td>198</td>\n",
       "      <td>C</td>\n",
       "      <td>5.0</td>\n",
       "      <td>7.2</td>\n",
       "    </tr>\n",
       "    <tr>\n",
       "      <td>199</td>\n",
       "      <td>C</td>\n",
       "      <td>5.0</td>\n",
       "      <td>6.4</td>\n",
       "    </tr>\n",
       "  </tbody>\n",
       "</table>\n",
       "<p>200 rows × 3 columns</p>\n",
       "</div>"
      ],
      "text/plain": [
       "    ABC  Ship_Days  Mfg_Days\n",
       "0     B        5.0       7.3\n",
       "1     C        5.0       4.8\n",
       "2     A        5.0       5.0\n",
       "3     A        5.0       5.9\n",
       "4     B        5.0       6.6\n",
       "..   ..        ...       ...\n",
       "195   C        5.0       5.4\n",
       "196   B        5.0       6.9\n",
       "197   B        5.0       4.6\n",
       "198   C        5.0       7.2\n",
       "199   C        5.0       6.4\n",
       "\n",
       "[200 rows x 3 columns]"
      ]
     },
     "execution_count": 8,
     "metadata": {},
     "output_type": "execute_result"
    }
   ],
   "source": [
    "df = pd.DataFrame({'ABC': abc_class,'Ship_Days': dist_time,'Mfg_Days': cyc_time})\n",
    "df"
   ]
  },
  {
   "cell_type": "code",
   "execution_count": null,
   "metadata": {},
   "outputs": [],
   "source": []
  },
  {
   "cell_type": "markdown",
   "metadata": {},
   "source": [
    "## References\n",
    " - [1] Python Software Foundation. Welcome to python.org.   \n",
    "https://www.python.org/\n",
    " - [2] GMIT. Quality assurance framework.   \n",
    "https://www.gmit.ie/general/quality-assurance-framework\n",
    " - [3] Software Freedom Conservancy. Git.   \n",
    "https://git-scm.com/\n",
    " - [4] Project Jupyter. Project jupyter.    \n",
    "https://jupyter.org/\n",
    " - [5] NumPy developers. Numpy.    \n",
    "http://www.numpy.org/\n",
    " - [6] Clear Spider             \n",
    "https://www.clearspider.com/blog-reduce-inventory-shortages/\n",
    " - [7] University of New Brunswick, NB Canada Fredericton   \n",
    "http://www2.unb.ca/~ddu/4690/Lecture_notes/Lec2.pdf\n",
    " - [8] Buildmedia     \n",
    "https://buildmedia.readthedocs.org/media/pdf/supplychainpy/latest/supplychainpy.pdf\n",
    " - [9] Pynative\n",
    "https://pynative.com/python-random-choice/\n",
    " - [10] Scipy\n",
    "https://docs.scipy.org/doc/numpy-1.15.0/reference/generated/numpy.random.normal.html"
   ]
  },
  {
   "cell_type": "code",
   "execution_count": null,
   "metadata": {},
   "outputs": [],
   "source": []
  }
 ],
 "metadata": {
  "kernelspec": {
   "display_name": "Python 3",
   "language": "python",
   "name": "python3"
  },
  "language_info": {
   "codemirror_mode": {
    "name": "ipython",
    "version": 3
   },
   "file_extension": ".py",
   "mimetype": "text/x-python",
   "name": "python",
   "nbconvert_exporter": "python",
   "pygments_lexer": "ipython3",
   "version": "3.7.4"
  }
 },
 "nbformat": 4,
 "nbformat_minor": 2
}
