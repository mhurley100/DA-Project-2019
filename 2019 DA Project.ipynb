{
 "cells": [
  {
   "cell_type": "markdown",
   "metadata": {},
   "source": [
    "# 2019 DA Project"
   ]
  },
  {
   "cell_type": "markdown",
   "metadata": {},
   "source": [
    "## Project Plan\n",
    "\n",
    "- Choose a real world phenomenon\n",
    "- Research and understand the phenomenon\n",
    "- Identify variables \n",
    "- Match variables to a distribution\n",
    "- Analyse variables and their inter relationships\n",
    "- Devise an algorithm or method to synthesise those variables\n",
    "- Generate dataset"
   ]
  },
  {
   "cell_type": "markdown",
   "metadata": {},
   "source": [
    "## Introduction\n",
    "\n",
    "I have chosen Supply Chain inventory shortages as the real world phenomenon."
   ]
  },
  {
   "cell_type": "markdown",
   "metadata": {},
   "source": [
    "## Research\n",
    "Supply chains consist of suppliers and manufacturers, who convert raw materials into finished materials, distribution centres and warehouses, from which finished products are distributed to customers. Inventory appears in the supply chain in several forms.  The objective of inventory is to achieve satisfactory levels of customer service while keeping inventory costs within reasonable bounds.\n",
    "\n",
    "Safety stock (SS): stock that is held in excess of expected demand due to variable demand rate and/or variable lead time.\n",
    "\n",
    "ABC approach: Set up priorities for different items.\n",
    "Class A: high-revenue products: 80% annual sales and 20% inventory SKU’s: periodic review with shorter review time.\n",
    "Class B: medium-revenue products: 15% annual sales and 75% inventory SKU’s: periodic review with longer review time.\n",
    "Class C: low-revenue products: 5% annual sales and 5% inventory SKU’s: either no inventory or a high inventory of\n",
    "inexpensive products.[7]\n",
    "\n",
    "Product shortages results in lost customers and therefore revenue.  If a product is not on the shelf, customers look elsewhere.  To resolve product shortages, many companies increase safety stocks. As inventory budgets are targeted at finished products, this can result in reduced holdings of raw materials required to manufacture the finished products.[6]  This inhibits companies ability to respond to fluctuations in demand.  Is there a correlation between product shortages and safety stock?  Do other variables such as forecast, lead times, cycletime at the manufacturer etc have an impact?  The goal of this is to identify if safety stocks can be reduced to free up cash for the company.  Are there any dynamics that can help?"
   ]
  },
  {
   "cell_type": "markdown",
   "metadata": {},
   "source": [
    "## Variables\n",
    "\n",
    "Determine the variables:  \n",
    "\n",
    "Material:  The volume of material shortages\n",
    "\n",
    "ABC classification\n",
    "\n",
    "Safety Stock:  Safety Stock level\n",
    "\n",
    "Forecasts:  Manufacturer is provided with a forecast for the quarter.\n",
    "\n",
    "Lead time from the Manufacturer to the distribution centres.  \n",
    "\n",
    "Cycle time at manufacturer\n"
   ]
  },
  {
   "cell_type": "markdown",
   "metadata": {},
   "source": [
    "## Import Libriaries"
   ]
  },
  {
   "cell_type": "code",
   "execution_count": 1,
   "metadata": {},
   "outputs": [],
   "source": [
    "import numpy as np\n",
    "import pandas as pd\n",
    "import matplotlib.pyplot as plt\n",
    "import seaborn as sns"
   ]
  },
  {
   "cell_type": "markdown",
   "metadata": {},
   "source": [
    "## Match Variables to Distributions"
   ]
  },
  {
   "cell_type": "code",
   "execution_count": 2,
   "metadata": {},
   "outputs": [],
   "source": [
    "# Dataset comprises 200 materials\n",
    "mat = 200"
   ]
  },
  {
   "cell_type": "markdown",
   "metadata": {},
   "source": [
    "#### ABC\n",
    "In materials management,  ABC analysis divides an inventory into three categories—\"A items\" with very tight control and accurate records, \"B items\" with less tightly controlled and good records, and \"C items\" with the simplest controls possible and minimal records.[11]\n",
    "\n",
    "ABC classification falls within the Pareto Distribution parameters.  The Pareto distribution is a skewed distribution and is also called as the '80-20 rule'. This distribution demonstrates inequity i.e. not all things are divided equally. 80% of values are in the 20% range with the remaining 20% in the 80% range. This is clearly illustrated when analysing distribution of wealth, output, population etc., for example 20% of the population have 80% of the wealth.  Similarly 20% of material with ABC class A record 80% of output in this simulated dataset.  This is often the case - 80% of Company revenue is often from 20% of products."
   ]
  },
  {
   "cell_type": "code",
   "execution_count": 3,
   "metadata": {},
   "outputs": [],
   "source": [
    "# Define ABC categories\n",
    "abc = [\"A\", \"B\", \"C\"]"
   ]
  },
  {
   "cell_type": "code",
   "execution_count": 4,
   "metadata": {},
   "outputs": [
    {
     "data": {
      "text/plain": [
       "array(['C', 'C', 'C', 'B', 'C', 'A', 'B', 'B', 'B', 'A', 'C', 'B', 'C',\n",
       "       'A', 'B', 'C', 'C', 'C', 'B', 'B', 'A', 'C', 'B', 'C', 'C', 'B',\n",
       "       'A', 'A', 'B', 'B', 'A', 'C', 'B', 'C', 'B', 'C', 'C', 'B', 'C',\n",
       "       'A', 'A', 'C', 'C', 'A', 'C', 'C', 'B', 'C', 'C', 'C', 'B', 'B',\n",
       "       'B', 'B', 'C', 'A', 'A', 'C', 'B', 'C', 'C', 'C', 'B', 'A', 'C',\n",
       "       'C', 'B', 'C', 'C', 'C', 'C', 'B', 'C', 'C', 'C', 'A', 'B', 'C',\n",
       "       'C', 'A', 'B', 'C', 'A', 'A', 'C', 'B', 'C', 'B', 'B', 'C', 'C',\n",
       "       'A', 'B', 'C', 'C', 'A', 'C', 'B', 'B', 'B', 'B', 'A', 'C', 'C',\n",
       "       'C', 'C', 'B', 'A', 'C', 'C', 'C', 'A', 'C', 'C', 'C', 'A', 'C',\n",
       "       'C', 'C', 'B', 'B', 'B', 'B', 'C', 'C', 'B', 'C', 'B', 'C', 'B',\n",
       "       'A', 'C', 'C', 'A', 'B', 'A', 'C', 'C', 'C', 'B', 'C', 'C', 'A',\n",
       "       'A', 'A', 'C', 'C', 'A', 'A', 'C', 'C', 'C', 'A', 'B', 'C', 'C',\n",
       "       'B', 'A', 'C', 'C', 'C', 'C', 'A', 'B', 'B', 'A', 'C', 'A', 'C',\n",
       "       'C', 'C', 'C', 'A', 'B', 'B', 'C', 'C', 'B', 'A', 'C', 'B', 'C',\n",
       "       'C', 'C', 'C', 'A', 'C', 'B', 'C', 'C', 'B', 'B', 'C', 'B', 'C',\n",
       "       'C', 'B', 'C', 'B', 'C'], dtype='<U1')"
      ]
     },
     "execution_count": 4,
     "metadata": {},
     "output_type": "execute_result"
    }
   ],
   "source": [
    "# ABC classification has a Pareto distribution\n",
    "# Adapted from https:https://pynative.com/python-random-choice/\n",
    "# 20% of materials are of class A with the remaining 80% split between B & C\n",
    "abc_class = np.random.choice(a = abc,  p=[0.2, 0.30, 0.50], size = mat)\n",
    "abc_class"
   ]
  },
  {
   "cell_type": "code",
   "execution_count": 5,
   "metadata": {},
   "outputs": [
    {
     "data": {
      "text/plain": [
       "array(['A', 'B', 'A', 'B', 'A', 'A', 'B', 'A', 'A', 'A', 'A', 'A', 'A',\n",
       "       'B', 'A', 'A', 'A', 'A', 'A', 'A', 'A', 'A', 'A', 'A', 'A', 'A',\n",
       "       'A', 'A', 'B', 'A', 'C', 'B', 'A', 'A', 'A', 'A', 'A', 'B', 'A',\n",
       "       'C', 'A', 'A', 'A', 'A', 'A', 'B', 'A', 'A', 'A', 'A', 'B', 'A',\n",
       "       'A', 'A', 'A', 'A', 'A', 'A', 'A', 'B', 'A', 'A', 'A', 'A', 'A',\n",
       "       'A', 'A', 'A', 'A', 'A', 'A', 'A', 'A', 'A', 'A', 'B', 'A', 'A',\n",
       "       'A', 'A', 'A', 'A', 'B', 'A', 'C', 'A', 'A', 'A', 'A', 'C', 'A',\n",
       "       'A', 'A', 'A', 'A', 'A', 'A', 'C', 'B', 'A', 'B', 'A', 'A', 'A',\n",
       "       'B', 'A', 'A', 'A', 'A', 'A', 'A', 'A', 'A', 'A', 'A', 'A', 'B',\n",
       "       'A', 'C', 'A', 'A', 'A', 'A', 'B', 'A', 'A', 'A', 'A', 'C', 'A',\n",
       "       'A', 'A', 'A', 'A', 'A', 'A', 'A', 'B', 'A', 'A', 'B', 'A', 'A',\n",
       "       'A', 'B', 'A', 'A', 'A', 'A', 'A', 'C', 'A', 'A', 'A', 'A', 'A',\n",
       "       'B', 'A', 'B', 'A', 'A', 'A', 'C', 'B', 'A', 'C', 'B', 'A', 'A',\n",
       "       'A', 'B', 'A', 'A', 'A', 'A', 'A', 'A', 'A', 'A', 'A', 'A', 'A',\n",
       "       'A', 'A', 'B', 'A', 'A', 'B', 'A', 'C', 'A', 'A', 'A', 'A', 'A',\n",
       "       'B', 'C', 'A', 'A', 'B'], dtype='<U1')"
      ]
     },
     "execution_count": 5,
     "metadata": {},
     "output_type": "execute_result"
    }
   ],
   "source": [
    "# ABC classification has a Pareto distribution\n",
    "# Adapted from https:https://pynative.com/python-random-choice/\n",
    "# 20% of materials are of class A however generate 80% of sales volume with the remaining 20% split between B & C\n",
    "\n",
    "abc_sv = np.random.choice(a = abc,  p=[0.8, 0.15, 0.05], size = mat)\n",
    "abc_sv"
   ]
  },
  {
   "cell_type": "code",
   "execution_count": 6,
   "metadata": {},
   "outputs": [
    {
     "data": {
      "text/plain": [
       "array([5., 5., 5., 5., 5., 5., 5., 5., 5., 5., 5., 5., 5., 5., 5., 5., 5.,\n",
       "       5., 5., 5., 5., 5., 5., 5., 5., 5., 5., 5., 5., 5., 5., 5., 5., 5.,\n",
       "       5., 5., 5., 5., 5., 5., 5., 5., 5., 5., 5., 5., 5., 5., 5., 5., 5.,\n",
       "       5., 5., 5., 5., 5., 5., 5., 5., 5., 5., 5., 5., 5., 5., 5., 5., 5.,\n",
       "       5., 5., 5., 5., 5., 5., 5., 5., 5., 5., 5., 5., 5., 5., 5., 5., 5.,\n",
       "       5., 5., 5., 5., 5., 5., 5., 5., 5., 5., 5., 5., 5., 5., 5., 5., 5.,\n",
       "       5., 5., 5., 5., 5., 5., 5., 5., 5., 5., 5., 5., 5., 5., 5., 5., 5.,\n",
       "       5., 5., 5., 5., 5., 5., 5., 5., 5., 5., 5., 5., 5., 5., 5., 5., 5.,\n",
       "       5., 5., 5., 5., 5., 5., 5., 5., 5., 5., 5., 5., 5., 5., 5., 5., 5.,\n",
       "       5., 5., 5., 5., 5., 5., 5., 5., 5., 5., 5., 5., 5., 5., 5., 5., 5.,\n",
       "       5., 5., 5., 5., 5., 5., 5., 5., 5., 5., 5., 5., 5., 5., 5., 5., 5.,\n",
       "       5., 5., 5., 5., 5., 5., 5., 5., 5., 5., 5., 5., 5.])"
      ]
     },
     "execution_count": 6,
     "metadata": {},
     "output_type": "execute_result"
    }
   ],
   "source": [
    "# Distribution time (in days) to Distribution centres\n",
    "# Adapted from https://docs.scipy.org/doc/numpy-1.15.0/reference/generated/numpy.random.normal.html\n",
    "mu, sigma = 5, .1 # mean and standard deviation\n",
    "dist_time = np.random.normal(mu, sigma, mat)\n",
    "# Adapted from https://docs.scipy.org/doc/numpy/reference/generated/numpy.around.html\n",
    "dist_time = np.around(dist_time, 0)\n",
    "dist_time"
   ]
  },
  {
   "cell_type": "code",
   "execution_count": 7,
   "metadata": {},
   "outputs": [
    {
     "data": {
      "text/plain": [
       "array([5.5, 6.9, 5.4, 6.5, 6.1, 7.2, 9. , 6.8, 6.3, 8.8, 6.3, 8.9, 6.7,\n",
       "       6.2, 6.8, 7.6, 5.4, 5.2, 5.4, 6.5, 5.7, 8. , 5.4, 6.1, 6.9, 6.4,\n",
       "       4.9, 6.3, 6.1, 5.1, 5.7, 5.7, 5.2, 8.1, 7.8, 5.2, 6.3, 4.4, 6.6,\n",
       "       5.3, 6.8, 4.7, 8.1, 7.8, 5.5, 5.8, 7.3, 5.8, 6.6, 5.5, 4.9, 6.6,\n",
       "       6.4, 6.2, 5.6, 6.6, 4.1, 6.9, 6.3, 6.3, 6.8, 4.7, 5.8, 5.7, 5.7,\n",
       "       7.3, 7.5, 7.1, 5.8, 4.7, 5. , 5. , 5.4, 6.3, 6.6, 8.8, 7. , 5.8,\n",
       "       5. , 4.4, 3.8, 4.1, 6.3, 6.9, 7. , 5.1, 7. , 5. , 4.8, 5.1, 4.5,\n",
       "       7.2, 7. , 6.6, 7.2, 5.3, 5.8, 8.6, 6.3, 4.4, 5.1, 4.6, 5.8, 4.3,\n",
       "       6.5, 6.8, 6.1, 5.6, 5.8, 5.5, 5.6, 7. , 6. , 5.1, 5.8, 7.2, 4.1,\n",
       "       6.3, 4.9, 7.2, 4.7, 7.5, 2.9, 6.2, 8.6, 6.4, 6.5, 3.5, 6.9, 5.5,\n",
       "       5.9, 6.6, 6.2, 6.2, 7. , 5.5, 6.7, 6.1, 5.6, 5.1, 7.5, 4.8, 5.8,\n",
       "       5.8, 5. , 5.1, 2.9, 5.6, 7.1, 6.5, 4.4, 5.3, 7.5, 5.2, 4.5, 8.1,\n",
       "       4.1, 6.8, 7.1, 7.9, 6. , 6.6, 6.9, 6.5, 6.1, 5.5, 6.7, 6.5, 5.5,\n",
       "       6.4, 5.6, 6.7, 7.5, 6.5, 6.5, 6.8, 5.3, 5.3, 6. , 6.4, 7.3, 6.6,\n",
       "       6.1, 6.7, 6.4, 6.5, 7.5, 7.1, 7.3, 5.9, 4.8, 9.3, 6. , 6.8, 6.9,\n",
       "       5.2, 5.8, 6.1, 4.6, 5. ])"
      ]
     },
     "execution_count": 7,
     "metadata": {},
     "output_type": "execute_result"
    }
   ],
   "source": [
    "# Cycle time at the Manufacturer (in days) to Distribution centres\n",
    "# Adapted from https://docs.scipy.org/doc/numpy-1.15.0/reference/generated/numpy.random.normal.html\n",
    "mu_c, sigma_c = 6, 1 # mean and standard deviation\n",
    "cyc_time = np.random.normal(mu_c, sigma_c, mat)\n",
    "# Adapted from https://docs.scipy.org/doc/numpy/reference/generated/numpy.around.html\n",
    "cyc_time = np.around(cyc_time, 1)\n",
    "cyc_time"
   ]
  },
  {
   "cell_type": "markdown",
   "metadata": {},
   "source": [
    "#### Forecast or demand"
   ]
  },
  {
   "cell_type": "markdown",
   "metadata": {},
   "source": [
    "Safety stock formula:Safety stock = (Maximum daily usage * Maximum lead time in days) – (Average daily usage * Average lead time in days).\n"
   ]
  },
  {
   "cell_type": "code",
   "execution_count": 8,
   "metadata": {
    "scrolled": true
   },
   "outputs": [],
   "source": [
    "df = pd.DataFrame({'ABC': abc_class,'Ship_Days': dist_time,'Mfg_Days': cyc_time})"
   ]
  },
  {
   "cell_type": "code",
   "execution_count": 9,
   "metadata": {},
   "outputs": [
    {
     "data": {
      "text/html": [
       "<div>\n",
       "<style scoped>\n",
       "    .dataframe tbody tr th:only-of-type {\n",
       "        vertical-align: middle;\n",
       "    }\n",
       "\n",
       "    .dataframe tbody tr th {\n",
       "        vertical-align: top;\n",
       "    }\n",
       "\n",
       "    .dataframe thead th {\n",
       "        text-align: right;\n",
       "    }\n",
       "</style>\n",
       "<table border=\"1\" class=\"dataframe\">\n",
       "  <thead>\n",
       "    <tr style=\"text-align: right;\">\n",
       "      <th></th>\n",
       "      <th>ABC</th>\n",
       "      <th>Ship_Days</th>\n",
       "      <th>Mfg_Days</th>\n",
       "    </tr>\n",
       "  </thead>\n",
       "  <tbody>\n",
       "    <tr>\n",
       "      <td>0</td>\n",
       "      <td>C</td>\n",
       "      <td>5.0</td>\n",
       "      <td>5.5</td>\n",
       "    </tr>\n",
       "    <tr>\n",
       "      <td>1</td>\n",
       "      <td>C</td>\n",
       "      <td>5.0</td>\n",
       "      <td>6.9</td>\n",
       "    </tr>\n",
       "    <tr>\n",
       "      <td>2</td>\n",
       "      <td>C</td>\n",
       "      <td>5.0</td>\n",
       "      <td>5.4</td>\n",
       "    </tr>\n",
       "    <tr>\n",
       "      <td>3</td>\n",
       "      <td>B</td>\n",
       "      <td>5.0</td>\n",
       "      <td>6.5</td>\n",
       "    </tr>\n",
       "    <tr>\n",
       "      <td>4</td>\n",
       "      <td>C</td>\n",
       "      <td>5.0</td>\n",
       "      <td>6.1</td>\n",
       "    </tr>\n",
       "    <tr>\n",
       "      <td>...</td>\n",
       "      <td>...</td>\n",
       "      <td>...</td>\n",
       "      <td>...</td>\n",
       "    </tr>\n",
       "    <tr>\n",
       "      <td>195</td>\n",
       "      <td>C</td>\n",
       "      <td>5.0</td>\n",
       "      <td>5.2</td>\n",
       "    </tr>\n",
       "    <tr>\n",
       "      <td>196</td>\n",
       "      <td>B</td>\n",
       "      <td>5.0</td>\n",
       "      <td>5.8</td>\n",
       "    </tr>\n",
       "    <tr>\n",
       "      <td>197</td>\n",
       "      <td>C</td>\n",
       "      <td>5.0</td>\n",
       "      <td>6.1</td>\n",
       "    </tr>\n",
       "    <tr>\n",
       "      <td>198</td>\n",
       "      <td>B</td>\n",
       "      <td>5.0</td>\n",
       "      <td>4.6</td>\n",
       "    </tr>\n",
       "    <tr>\n",
       "      <td>199</td>\n",
       "      <td>C</td>\n",
       "      <td>5.0</td>\n",
       "      <td>5.0</td>\n",
       "    </tr>\n",
       "  </tbody>\n",
       "</table>\n",
       "<p>200 rows × 3 columns</p>\n",
       "</div>"
      ],
      "text/plain": [
       "    ABC  Ship_Days  Mfg_Days\n",
       "0     C        5.0       5.5\n",
       "1     C        5.0       6.9\n",
       "2     C        5.0       5.4\n",
       "3     B        5.0       6.5\n",
       "4     C        5.0       6.1\n",
       "..   ..        ...       ...\n",
       "195   C        5.0       5.2\n",
       "196   B        5.0       5.8\n",
       "197   C        5.0       6.1\n",
       "198   B        5.0       4.6\n",
       "199   C        5.0       5.0\n",
       "\n",
       "[200 rows x 3 columns]"
      ]
     },
     "execution_count": 9,
     "metadata": {},
     "output_type": "execute_result"
    }
   ],
   "source": [
    "df = pd.DataFrame({'ABC': abc_class,'Ship_Days': dist_time,'Mfg_Days': cyc_time})\n",
    "df"
   ]
  },
  {
   "cell_type": "code",
   "execution_count": 10,
   "metadata": {},
   "outputs": [],
   "source": [
    "# Adapted from https://datatofish.com/if-condition-in-pandas-dataframe/\n",
    "df.loc[df.ABC == 'A', 'Mthly_Forecast'] = 1000\n",
    "df.loc[df.ABC == 'B', 'Mthly_Forecast'] = 100\n",
    "df.loc[df.ABC == 'C', 'Mthly_Forecast'] = 10"
   ]
  },
  {
   "cell_type": "code",
   "execution_count": 11,
   "metadata": {},
   "outputs": [
    {
     "data": {
      "text/html": [
       "<div>\n",
       "<style scoped>\n",
       "    .dataframe tbody tr th:only-of-type {\n",
       "        vertical-align: middle;\n",
       "    }\n",
       "\n",
       "    .dataframe tbody tr th {\n",
       "        vertical-align: top;\n",
       "    }\n",
       "\n",
       "    .dataframe thead th {\n",
       "        text-align: right;\n",
       "    }\n",
       "</style>\n",
       "<table border=\"1\" class=\"dataframe\">\n",
       "  <thead>\n",
       "    <tr style=\"text-align: right;\">\n",
       "      <th></th>\n",
       "      <th>ABC</th>\n",
       "      <th>Ship_Days</th>\n",
       "      <th>Mfg_Days</th>\n",
       "      <th>Mthly_Forecast</th>\n",
       "      <th>Safety_Stock</th>\n",
       "    </tr>\n",
       "  </thead>\n",
       "  <tbody>\n",
       "    <tr>\n",
       "      <td>0</td>\n",
       "      <td>C</td>\n",
       "      <td>5.0</td>\n",
       "      <td>5.5</td>\n",
       "      <td>10.0</td>\n",
       "      <td>1.0</td>\n",
       "    </tr>\n",
       "    <tr>\n",
       "      <td>1</td>\n",
       "      <td>C</td>\n",
       "      <td>5.0</td>\n",
       "      <td>6.9</td>\n",
       "      <td>10.0</td>\n",
       "      <td>1.0</td>\n",
       "    </tr>\n",
       "    <tr>\n",
       "      <td>2</td>\n",
       "      <td>C</td>\n",
       "      <td>5.0</td>\n",
       "      <td>5.4</td>\n",
       "      <td>10.0</td>\n",
       "      <td>1.0</td>\n",
       "    </tr>\n",
       "    <tr>\n",
       "      <td>3</td>\n",
       "      <td>B</td>\n",
       "      <td>5.0</td>\n",
       "      <td>6.5</td>\n",
       "      <td>100.0</td>\n",
       "      <td>10.0</td>\n",
       "    </tr>\n",
       "    <tr>\n",
       "      <td>4</td>\n",
       "      <td>C</td>\n",
       "      <td>5.0</td>\n",
       "      <td>6.1</td>\n",
       "      <td>10.0</td>\n",
       "      <td>1.0</td>\n",
       "    </tr>\n",
       "    <tr>\n",
       "      <td>...</td>\n",
       "      <td>...</td>\n",
       "      <td>...</td>\n",
       "      <td>...</td>\n",
       "      <td>...</td>\n",
       "      <td>...</td>\n",
       "    </tr>\n",
       "    <tr>\n",
       "      <td>195</td>\n",
       "      <td>C</td>\n",
       "      <td>5.0</td>\n",
       "      <td>5.2</td>\n",
       "      <td>10.0</td>\n",
       "      <td>1.0</td>\n",
       "    </tr>\n",
       "    <tr>\n",
       "      <td>196</td>\n",
       "      <td>B</td>\n",
       "      <td>5.0</td>\n",
       "      <td>5.8</td>\n",
       "      <td>100.0</td>\n",
       "      <td>10.0</td>\n",
       "    </tr>\n",
       "    <tr>\n",
       "      <td>197</td>\n",
       "      <td>C</td>\n",
       "      <td>5.0</td>\n",
       "      <td>6.1</td>\n",
       "      <td>10.0</td>\n",
       "      <td>1.0</td>\n",
       "    </tr>\n",
       "    <tr>\n",
       "      <td>198</td>\n",
       "      <td>B</td>\n",
       "      <td>5.0</td>\n",
       "      <td>4.6</td>\n",
       "      <td>100.0</td>\n",
       "      <td>10.0</td>\n",
       "    </tr>\n",
       "    <tr>\n",
       "      <td>199</td>\n",
       "      <td>C</td>\n",
       "      <td>5.0</td>\n",
       "      <td>5.0</td>\n",
       "      <td>10.0</td>\n",
       "      <td>1.0</td>\n",
       "    </tr>\n",
       "  </tbody>\n",
       "</table>\n",
       "<p>200 rows × 5 columns</p>\n",
       "</div>"
      ],
      "text/plain": [
       "    ABC  Ship_Days  Mfg_Days  Mthly_Forecast  Safety_Stock\n",
       "0     C        5.0       5.5            10.0           1.0\n",
       "1     C        5.0       6.9            10.0           1.0\n",
       "2     C        5.0       5.4            10.0           1.0\n",
       "3     B        5.0       6.5           100.0          10.0\n",
       "4     C        5.0       6.1            10.0           1.0\n",
       "..   ..        ...       ...             ...           ...\n",
       "195   C        5.0       5.2            10.0           1.0\n",
       "196   B        5.0       5.8           100.0          10.0\n",
       "197   C        5.0       6.1            10.0           1.0\n",
       "198   B        5.0       4.6           100.0          10.0\n",
       "199   C        5.0       5.0            10.0           1.0\n",
       "\n",
       "[200 rows x 5 columns]"
      ]
     },
     "execution_count": 11,
     "metadata": {},
     "output_type": "execute_result"
    }
   ],
   "source": [
    "# Add safety stock - 2 weeks sales i.e 50% of Mthly_Forecast\n",
    "# Adapted from https://www.geeksforgeeks.org/adding-new-column-to-existing-dataframe-in-pandas/\n",
    "df2 = df.assign(Safety_Stock = df.Mthly_Forecast * .1)\n",
    "df2"
   ]
  },
  {
   "cell_type": "code",
   "execution_count": 12,
   "metadata": {},
   "outputs": [
    {
     "data": {
      "text/html": [
       "<div>\n",
       "<style scoped>\n",
       "    .dataframe tbody tr th:only-of-type {\n",
       "        vertical-align: middle;\n",
       "    }\n",
       "\n",
       "    .dataframe tbody tr th {\n",
       "        vertical-align: top;\n",
       "    }\n",
       "\n",
       "    .dataframe thead th {\n",
       "        text-align: right;\n",
       "    }\n",
       "</style>\n",
       "<table border=\"1\" class=\"dataframe\">\n",
       "  <thead>\n",
       "    <tr style=\"text-align: right;\">\n",
       "      <th></th>\n",
       "      <th>ABC</th>\n",
       "      <th>Ship_Days</th>\n",
       "      <th>Mfg_Days</th>\n",
       "      <th>Mthly_Forecast</th>\n",
       "      <th>Safety_Stock</th>\n",
       "      <th>Actual Sales</th>\n",
       "    </tr>\n",
       "  </thead>\n",
       "  <tbody>\n",
       "    <tr>\n",
       "      <td>0</td>\n",
       "      <td>C</td>\n",
       "      <td>5.0</td>\n",
       "      <td>5.5</td>\n",
       "      <td>10.0</td>\n",
       "      <td>1.0</td>\n",
       "      <td>9.0</td>\n",
       "    </tr>\n",
       "    <tr>\n",
       "      <td>1</td>\n",
       "      <td>C</td>\n",
       "      <td>5.0</td>\n",
       "      <td>6.9</td>\n",
       "      <td>10.0</td>\n",
       "      <td>1.0</td>\n",
       "      <td>9.0</td>\n",
       "    </tr>\n",
       "    <tr>\n",
       "      <td>2</td>\n",
       "      <td>C</td>\n",
       "      <td>5.0</td>\n",
       "      <td>5.4</td>\n",
       "      <td>10.0</td>\n",
       "      <td>1.0</td>\n",
       "      <td>9.0</td>\n",
       "    </tr>\n",
       "    <tr>\n",
       "      <td>3</td>\n",
       "      <td>B</td>\n",
       "      <td>5.0</td>\n",
       "      <td>6.5</td>\n",
       "      <td>100.0</td>\n",
       "      <td>10.0</td>\n",
       "      <td>120.0</td>\n",
       "    </tr>\n",
       "    <tr>\n",
       "      <td>4</td>\n",
       "      <td>C</td>\n",
       "      <td>5.0</td>\n",
       "      <td>6.1</td>\n",
       "      <td>10.0</td>\n",
       "      <td>1.0</td>\n",
       "      <td>9.0</td>\n",
       "    </tr>\n",
       "    <tr>\n",
       "      <td>...</td>\n",
       "      <td>...</td>\n",
       "      <td>...</td>\n",
       "      <td>...</td>\n",
       "      <td>...</td>\n",
       "      <td>...</td>\n",
       "      <td>...</td>\n",
       "    </tr>\n",
       "    <tr>\n",
       "      <td>195</td>\n",
       "      <td>C</td>\n",
       "      <td>5.0</td>\n",
       "      <td>5.2</td>\n",
       "      <td>10.0</td>\n",
       "      <td>1.0</td>\n",
       "      <td>9.0</td>\n",
       "    </tr>\n",
       "    <tr>\n",
       "      <td>196</td>\n",
       "      <td>B</td>\n",
       "      <td>5.0</td>\n",
       "      <td>5.8</td>\n",
       "      <td>100.0</td>\n",
       "      <td>10.0</td>\n",
       "      <td>120.0</td>\n",
       "    </tr>\n",
       "    <tr>\n",
       "      <td>197</td>\n",
       "      <td>C</td>\n",
       "      <td>5.0</td>\n",
       "      <td>6.1</td>\n",
       "      <td>10.0</td>\n",
       "      <td>1.0</td>\n",
       "      <td>9.0</td>\n",
       "    </tr>\n",
       "    <tr>\n",
       "      <td>198</td>\n",
       "      <td>B</td>\n",
       "      <td>5.0</td>\n",
       "      <td>4.6</td>\n",
       "      <td>100.0</td>\n",
       "      <td>10.0</td>\n",
       "      <td>120.0</td>\n",
       "    </tr>\n",
       "    <tr>\n",
       "      <td>199</td>\n",
       "      <td>C</td>\n",
       "      <td>5.0</td>\n",
       "      <td>5.0</td>\n",
       "      <td>10.0</td>\n",
       "      <td>1.0</td>\n",
       "      <td>9.0</td>\n",
       "    </tr>\n",
       "  </tbody>\n",
       "</table>\n",
       "<p>200 rows × 6 columns</p>\n",
       "</div>"
      ],
      "text/plain": [
       "    ABC  Ship_Days  Mfg_Days  Mthly_Forecast  Safety_Stock  Actual Sales\n",
       "0     C        5.0       5.5            10.0           1.0           9.0\n",
       "1     C        5.0       6.9            10.0           1.0           9.0\n",
       "2     C        5.0       5.4            10.0           1.0           9.0\n",
       "3     B        5.0       6.5           100.0          10.0         120.0\n",
       "4     C        5.0       6.1            10.0           1.0           9.0\n",
       "..   ..        ...       ...             ...           ...           ...\n",
       "195   C        5.0       5.2            10.0           1.0           9.0\n",
       "196   B        5.0       5.8           100.0          10.0         120.0\n",
       "197   C        5.0       6.1            10.0           1.0           9.0\n",
       "198   B        5.0       4.6           100.0          10.0         120.0\n",
       "199   C        5.0       5.0            10.0           1.0           9.0\n",
       "\n",
       "[200 rows x 6 columns]"
      ]
     },
     "execution_count": 12,
     "metadata": {},
     "output_type": "execute_result"
    }
   ],
   "source": [
    "# Adapted from https://datatofish.com/if-condition-in-pandas-dataframe/\n",
    "df2.loc[df.ABC == 'A', 'Actual Sales'] = 1090\n",
    "df2.loc[df.ABC == 'B', 'Actual Sales'] = 120\n",
    "df2.loc[df.ABC == 'C', 'Actual Sales'] = 9\n",
    "df2"
   ]
  },
  {
   "cell_type": "markdown",
   "metadata": {},
   "source": [
    "Dataset complete.  Time to analyse"
   ]
  },
  {
   "cell_type": "code",
   "execution_count": 15,
   "metadata": {},
   "outputs": [],
   "source": [
    "# Adapted from https://stackoverflow.com/questions/49609353/pandas-dataframe-to-csv-not-exporting-all-rows/53606044\n",
    "df2.to_csv(\"sc.csv\", index=False, mode='w')"
   ]
  },
  {
   "cell_type": "markdown",
   "metadata": {},
   "source": [
    "## References\n",
    " - [1] Python Software Foundation. Welcome to python.org.   \n",
    "https://www.python.org/\n",
    " - [2] GMIT. Quality assurance framework.   \n",
    "https://www.gmit.ie/general/quality-assurance-framework\n",
    " - [3] Software Freedom Conservancy. Git.   \n",
    "https://git-scm.com/\n",
    " - [4] Project Jupyter. Project jupyter.    \n",
    "https://jupyter.org/\n",
    " - [5] NumPy developers. Numpy.    \n",
    "http://www.numpy.org/\n",
    " - [6] Clear Spider             \n",
    "https://www.clearspider.com/blog-reduce-inventory-shortages/\n",
    " - [7] University of New Brunswick, NB Canada Fredericton   \n",
    "http://www2.unb.ca/~ddu/4690/Lecture_notes/Lec2.pdf\n",
    " - [8] Buildmedia     \n",
    "https://buildmedia.readthedocs.org/media/pdf/supplychainpy/latest/supplychainpy.pdf\n",
    " - [9] Pynative\n",
    "https://pynative.com/python-random-choice/\n",
    " - [10] Scipy\n",
    "https://docs.scipy.org/doc/numpy-1.15.0/reference/generated/numpy.random.normal.html\n",
    " - [11] Wikipedia\n",
    "https://en.wikipedia.org/wiki/ABC_analysis"
   ]
  },
  {
   "cell_type": "code",
   "execution_count": null,
   "metadata": {},
   "outputs": [],
   "source": []
  }
 ],
 "metadata": {
  "kernelspec": {
   "display_name": "Python 3",
   "language": "python",
   "name": "python3"
  },
  "language_info": {
   "codemirror_mode": {
    "name": "ipython",
    "version": 3
   },
   "file_extension": ".py",
   "mimetype": "text/x-python",
   "name": "python",
   "nbconvert_exporter": "python",
   "pygments_lexer": "ipython3",
   "version": "3.7.4"
  }
 },
 "nbformat": 4,
 "nbformat_minor": 2
}
