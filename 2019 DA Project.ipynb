{
 "cells": [
  {
   "cell_type": "markdown",
   "metadata": {},
   "source": [
    "# 2019 DA Project:  Supply Chain - Inventory Shortages"
   ]
  },
  {
   "cell_type": "markdown",
   "metadata": {},
   "source": [
    "## Project Plan\n",
    "\n",
    "- Choose a real world phenomenon\n",
    "- Research and understand the phenomenon\n",
    "- Identify variables \n",
    "- Match variables to a distribution\n",
    "- Analyse variables and their inter relationships\n",
    "- Devise an algorithm or method to synthesise those variables\n",
    "- Generate dataset"
   ]
  },
  {
   "cell_type": "markdown",
   "metadata": {},
   "source": [
    "## Introduction\n",
    "\n",
    "I have chosen Supply Chain inventory shortages as the real world phenomenon to investigate.  Customer satisfaction is linked to an effective supply chain. In past companies held large levels of inventory to avoid shortfalls.  However, that is neither economical nor efficient operationally.  Given tight margins, complex sourcing and international dimensions, how can companies maximise their sales with minimum investment in inventory in distribution centres?"
   ]
  },
  {
   "cell_type": "markdown",
   "metadata": {},
   "source": [
    "## Research\n",
    "\n",
    "#### What is a Supply Chain?\n",
    "\n",
    "Supply chains consist of suppliers, manufacturers and distribution centres.  \n",
    "\n",
    "- Suppliers supply raw materials or finished products\n",
    "- Manufacturers convert raw materials into finished products\n",
    "- Distribution centres sell finished products to customers\n",
    "\n",
    "In order to satisfy customer demand, a certain level of inventory is held.  This is called safety stock.  It is stock that is held in excess of expected demand due to variable demand rate and/or variable lead time to the distribution centres.  It is necessary as it is impossible to predict future sales with 100% accuracy and given the complexity of supply chains, any issue can impact the manufacturers ability to deliver product to forecast e.g weather can ground planes and impact suppliers ability to deliver components on time to the manufacturer. \n",
    "\n",
    "Product shortages result in lost customers and as a result revenue.  If a product is not on the shelf, customers look elsewhere.  To resolve product shortages, many companies increase safety stocks. As inventory budgets are targeted at finished products, this can result in reduced holdings of raw materials required to manufacture finished products.[6]  This inhibits companies ability to respond to fluctuations in demand.  Is there a correlation between product shortages and safety stock?  Do other variables such as forecast, lead times, cycletime at the manufacturer have an impact?  Safety stocks tie up Company money and may inhibit investment in other areas of the business which would drive future growth.  The goal of this project is to identify if safety stocks can be reduced to free up cash for the company.  "
   ]
  },
  {
   "cell_type": "markdown",
   "metadata": {},
   "source": [
    "## Variables\n",
    "\n",
    "Determine the variables.  5 variables have been identified: \n",
    "\n",
    " - ABC classification  - is the material a high runner or slow moving?\n",
    " \n",
    " - Distribution time in days to the distribution centre. \n",
    " \n",
    " - Cycle time at manufacturer\n",
    " \n",
    " - Forecast:  Manufacturer is expected to deliver the monthly forecast\n",
    " \n",
    " - Safety Stock: what level the safety stock been set?"
   ]
  },
  {
   "cell_type": "markdown",
   "metadata": {},
   "source": [
    "## Import Libriaries"
   ]
  },
  {
   "cell_type": "code",
   "execution_count": 1,
   "metadata": {},
   "outputs": [],
   "source": [
    "import numpy as np\n",
    "import pandas as pd\n",
    "import matplotlib.pyplot as plt\n",
    "import seaborn as sns"
   ]
  },
  {
   "cell_type": "code",
   "execution_count": 2,
   "metadata": {},
   "outputs": [],
   "source": [
    "# Make matplotlib show interactive plots in the notebook.\n",
    "%matplotlib inline\n",
    "# Apply the default seaborn settings\n",
    "sns.set()"
   ]
  },
  {
   "cell_type": "code",
   "execution_count": 3,
   "metadata": {},
   "outputs": [],
   "source": [
    "# Dataset comprises 200 materials\n",
    "mat = 200"
   ]
  },
  {
   "cell_type": "markdown",
   "metadata": {},
   "source": [
    "## Match Variables to Distributions"
   ]
  },
  {
   "cell_type": "markdown",
   "metadata": {},
   "source": [
    "### Variable 1 : ABC\n",
    "In materials management,  ABC analysis divides inventory into three categories:\n",
    " - \"A\" items.  These are the high runners.\n",
    " - \"B\" items.  These are lower runners.\n",
    " - \"C\" items.  Very slow moving and often built to order.\n",
    "\n",
    "A different approach is required for each category:\n",
    "\"A\" are high revenue products: they generate 80% of annual sales of which are 20% of inventory SKU’s.\n",
    "\"B\" are middle to low revenue products: 15% annual sales and 20% inventory SKU’s.\n",
    "\"C\" are low revenue products: 5% annual sales and 60% inventory SKU’s.  Generally these are built to order.\n",
    "\n",
    "ABC classification falls within the Pareto Distribution parameters.  The Pareto distribution is a skewed distribution and is also called as the '80-20 rule'. This distribution demonstrates inequity i.e. not all things are divided equally. 80% of values are in the 20% range with the remaining 20% in the 80% range. This is clearly illustrated in the company being analysed - 80% of revenue is often from 20% of products."
   ]
  },
  {
   "cell_type": "code",
   "execution_count": 4,
   "metadata": {},
   "outputs": [],
   "source": [
    "# Define ABC categories\n",
    "abc = [\"A\", \"B\", \"C\"]"
   ]
  },
  {
   "cell_type": "code",
   "execution_count": 5,
   "metadata": {},
   "outputs": [
    {
     "data": {
      "text/plain": [
       "array(['B', 'B', 'A', 'A', 'B', 'B', 'A', 'C', 'C', 'C', 'C', 'C', 'C',\n",
       "       'C', 'B', 'C', 'C', 'C', 'B', 'A', 'B', 'B', 'A', 'C', 'C', 'C',\n",
       "       'A', 'B', 'B', 'B', 'C', 'C', 'B', 'C', 'A', 'B', 'C', 'C', 'C',\n",
       "       'C', 'B', 'A', 'C', 'B', 'B', 'B', 'B', 'B', 'C', 'C', 'A', 'A',\n",
       "       'C', 'C', 'C', 'C', 'A', 'C', 'B', 'B', 'C', 'C', 'C', 'C', 'C',\n",
       "       'C', 'C', 'A', 'C', 'C', 'B', 'C', 'C', 'B', 'C', 'C', 'C', 'C',\n",
       "       'A', 'A', 'A', 'C', 'A', 'B', 'C', 'C', 'A', 'B', 'C', 'B', 'C',\n",
       "       'C', 'C', 'A', 'A', 'C', 'A', 'C', 'C', 'C', 'B', 'C', 'C', 'C',\n",
       "       'C', 'C', 'A', 'A', 'C', 'A', 'C', 'C', 'C', 'C', 'A', 'C', 'C',\n",
       "       'C', 'B', 'C', 'C', 'C', 'C', 'C', 'B', 'C', 'C', 'C', 'C', 'B',\n",
       "       'B', 'C', 'B', 'C', 'C', 'C', 'C', 'A', 'C', 'B', 'C', 'B', 'B',\n",
       "       'C', 'A', 'C', 'C', 'B', 'B', 'C', 'C', 'B', 'B', 'C', 'A', 'A',\n",
       "       'C', 'A', 'A', 'A', 'C', 'B', 'A', 'B', 'B', 'C', 'A', 'C', 'C',\n",
       "       'B', 'B', 'B', 'C', 'C', 'C', 'C', 'A', 'A', 'C', 'C', 'C', 'A',\n",
       "       'B', 'B', 'C', 'A', 'C', 'C', 'C', 'B', 'C', 'B', 'B', 'C', 'B',\n",
       "       'C', 'B', 'C', 'C', 'B'], dtype='<U1')"
      ]
     },
     "execution_count": 5,
     "metadata": {},
     "output_type": "execute_result"
    }
   ],
   "source": [
    "# ABC classification has a Pareto distribution\n",
    "# Adapted from https:https://pynative.com/python-random-choice/\n",
    "# 20% of materials are of class A with the remaining 80% split between B & C\n",
    "abc_class = np.random.choice(a = abc,  p=[0.2, 0.30, 0.50], size = mat)\n",
    "abc_class"
   ]
  },
  {
   "cell_type": "code",
   "execution_count": 6,
   "metadata": {},
   "outputs": [
    {
     "data": {
      "text/plain": [
       "array(['A', 'A', 'C', 'A', 'A', 'A', 'B', 'C', 'A', 'A', 'A', 'A', 'A',\n",
       "       'B', 'B', 'C', 'A', 'A', 'A', 'A', 'B', 'A', 'A', 'A', 'A', 'A',\n",
       "       'B', 'A', 'C', 'A', 'A', 'A', 'A', 'A', 'B', 'A', 'B', 'A', 'B',\n",
       "       'A', 'A', 'A', 'A', 'A', 'A', 'A', 'A', 'A', 'A', 'A', 'A', 'B',\n",
       "       'B', 'A', 'A', 'A', 'A', 'B', 'A', 'A', 'A', 'A', 'A', 'A', 'B',\n",
       "       'B', 'A', 'B', 'A', 'A', 'A', 'A', 'B', 'A', 'B', 'A', 'A', 'B',\n",
       "       'A', 'C', 'A', 'A', 'A', 'A', 'A', 'A', 'A', 'A', 'A', 'A', 'A',\n",
       "       'A', 'A', 'A', 'B', 'A', 'A', 'A', 'B', 'A', 'A', 'A', 'A', 'A',\n",
       "       'A', 'A', 'A', 'A', 'A', 'B', 'A', 'A', 'B', 'A', 'A', 'A', 'A',\n",
       "       'C', 'A', 'B', 'A', 'B', 'A', 'A', 'A', 'A', 'A', 'B', 'A', 'A',\n",
       "       'A', 'A', 'A', 'A', 'A', 'A', 'A', 'A', 'A', 'A', 'A', 'A', 'A',\n",
       "       'A', 'C', 'A', 'A', 'A', 'B', 'B', 'A', 'A', 'A', 'A', 'A', 'A',\n",
       "       'A', 'A', 'B', 'A', 'A', 'A', 'A', 'A', 'A', 'A', 'A', 'B', 'C',\n",
       "       'A', 'B', 'B', 'B', 'A', 'C', 'A', 'A', 'A', 'A', 'A', 'A', 'B',\n",
       "       'A', 'B', 'A', 'B', 'B', 'B', 'B', 'B', 'B', 'A', 'B', 'B', 'A',\n",
       "       'B', 'B', 'A', 'A', 'A'], dtype='<U1')"
      ]
     },
     "execution_count": 6,
     "metadata": {},
     "output_type": "execute_result"
    }
   ],
   "source": [
    "# ABC classification has a Pareto distribution\n",
    "# Adapted from https:https://pynative.com/python-random-choice/\n",
    "# 20% of materials are of class A however generate 80% of sales volume with the remaining 20% split between B & C\n",
    "\n",
    "abc_sv = np.random.choice(a = abc,  p=[0.8, 0.15, 0.05], size = mat)\n",
    "abc_sv"
   ]
  },
  {
   "cell_type": "markdown",
   "metadata": {},
   "source": [
    "### Variable 2:  Distribution time in days to the distribution centre\n",
    "This relates to the transportation time from the manufacturer to the distribution centres.  The time in days has been set at 5 to a range of distribution centres across the globe.  A combination of air, sea and road freight is used.  Established channels are used and contracts negociated to ensure global consistency of 5 working days or 1 week."
   ]
  },
  {
   "cell_type": "code",
   "execution_count": 7,
   "metadata": {},
   "outputs": [
    {
     "data": {
      "text/plain": [
       "array([4., 5., 5., 5., 5., 5., 5., 5., 5., 5., 5., 5., 5., 5., 5., 5., 5.,\n",
       "       5., 5., 5., 5., 5., 5., 5., 5., 5., 5., 5., 5., 5., 6., 5., 5., 5.,\n",
       "       5., 5., 5., 5., 6., 5., 5., 5., 5., 4., 5., 5., 5., 5., 5., 5., 5.,\n",
       "       5., 5., 5., 5., 5., 5., 5., 5., 5., 5., 5., 5., 5., 5., 5., 5., 5.,\n",
       "       5., 5., 4., 5., 5., 5., 5., 5., 5., 5., 5., 5., 5., 5., 5., 5., 5.,\n",
       "       5., 5., 5., 5., 5., 5., 5., 6., 5., 5., 5., 5., 5., 4., 5., 5., 5.,\n",
       "       5., 5., 5., 5., 5., 5., 5., 5., 5., 4., 5., 5., 5., 5., 5., 5., 5.,\n",
       "       5., 5., 5., 6., 5., 5., 5., 5., 5., 5., 5., 5., 5., 5., 5., 5., 5.,\n",
       "       5., 5., 5., 5., 5., 5., 5., 5., 5., 5., 5., 5., 5., 5., 5., 5., 5.,\n",
       "       5., 4., 5., 5., 5., 5., 5., 5., 4., 5., 5., 5., 5., 4., 5., 5., 5.,\n",
       "       4., 5., 5., 5., 5., 5., 5., 4., 5., 5., 5., 5., 5., 6., 5., 5., 5.,\n",
       "       5., 5., 5., 5., 5., 5., 5., 5., 5., 5., 5., 5., 5.])"
      ]
     },
     "execution_count": 7,
     "metadata": {},
     "output_type": "execute_result"
    }
   ],
   "source": [
    "# Distribution time (in days) to Distribution centres\n",
    "# Adapted from https://docs.scipy.org/doc/numpy-1.15.0/reference/generated/numpy.random.normal.html\n",
    "# There is some variation but generally the 5 days is adhered to\n",
    "# mean and standard deviation\n",
    "mu, sigma = 5, .3\n",
    "dist_time = np.random.normal(mu, sigma, mat)\n",
    "# Adapted from https://docs.scipy.org/doc/numpy/reference/generated/numpy.around.html\n",
    "dist_time = np.around(dist_time, 0)\n",
    "dist_time"
   ]
  },
  {
   "cell_type": "markdown",
   "metadata": {},
   "source": [
    "### Variable 3:  Cycle time at the Manufacturer (in days)\n",
    "This relates to the manufacturers ability to manufacture the forecast set.  This also follows a normal distribution but is more widely spread as issues occur with external suppliers e.g quality issues and internally with yield etc.  All products are manufactured from similar components from bespoke suppliers."
   ]
  },
  {
   "cell_type": "code",
   "execution_count": 8,
   "metadata": {},
   "outputs": [
    {
     "data": {
      "text/plain": [
       "array([6.6, 7.2, 6.7, 6.5, 5.6, 5. , 5.6, 6. , 7.3, 6. , 7.6, 7.6, 5.2,\n",
       "       4.4, 5.2, 8.5, 6.1, 5.1, 6.9, 5.8, 6.1, 6.6, 5.6, 6.2, 6.2, 5. ,\n",
       "       6.5, 6.7, 4.8, 7.1, 6.7, 4.8, 5.8, 4. , 5.5, 6.7, 5.2, 6.3, 4.6,\n",
       "       6.1, 5.4, 4.4, 6.1, 6.7, 5.5, 3.8, 5.4, 5.5, 5.6, 3.2, 5.4, 6.5,\n",
       "       4.3, 6.5, 5.5, 5.2, 7.3, 7.4, 5. , 6.6, 6.1, 4.7, 5.8, 6.8, 8. ,\n",
       "       5.6, 6.5, 4.3, 5. , 5.5, 7.3, 4.4, 4.4, 5.6, 4.1, 5.3, 6.1, 7.5,\n",
       "       5.4, 4.1, 7.5, 5.7, 4.7, 6.5, 4.3, 7. , 7.8, 5.6, 5. , 6. , 9.3,\n",
       "       6.8, 7. , 6.4, 5.1, 4.3, 6.2, 7.4, 8. , 4.5, 4.8, 5.6, 6.9, 5.5,\n",
       "       6.6, 5.3, 7. , 4.3, 7.8, 5.6, 7.3, 8.2, 6.1, 4.4, 4.4, 5.2, 5.2,\n",
       "       6. , 5.1, 6.6, 5.9, 4. , 8.1, 6.4, 7.2, 6.8, 5.7, 5.5, 5.7, 5.9,\n",
       "       6.9, 5.3, 6.2, 5.6, 6.1, 5.9, 6.5, 6.5, 7.2, 6.5, 7.9, 5.7, 6.6,\n",
       "       7.1, 5.3, 6.1, 6.5, 8.1, 6.7, 6.6, 6. , 6.2, 5.2, 6.7, 5.1, 7.1,\n",
       "       5.5, 6.1, 8.2, 4.6, 7.1, 4.7, 6.7, 5.5, 5.2, 5.6, 4.5, 6.6, 7. ,\n",
       "       5.8, 7.4, 5.9, 6.2, 6. , 5.9, 6.6, 5.8, 6.5, 6.3, 6.4, 6.6, 7.4,\n",
       "       5.5, 6.5, 7.8, 5.4, 7.8, 6.9, 7.7, 6.7, 6.4, 6.3, 4.7, 5.4, 5.7,\n",
       "       7.2, 4.6, 4.1, 6.3, 6.3])"
      ]
     },
     "execution_count": 8,
     "metadata": {},
     "output_type": "execute_result"
    }
   ],
   "source": [
    "# Adapted from https://docs.scipy.org/doc/numpy-1.15.0/reference/generated/numpy.random.normal.html\n",
    "mu_c, sigma_c = 6, 1 # mean and standard deviation\n",
    "cyc_time = np.random.normal(mu_c, sigma_c, mat)\n",
    "# Adapted from https://docs.scipy.org/doc/numpy/reference/generated/numpy.around.html\n",
    "cyc_time = np.around(cyc_time, 1)\n",
    "cyc_time"
   ]
  },
  {
   "cell_type": "markdown",
   "metadata": {},
   "source": [
    "### Variable 4:  Forecast set by Global Planning\n",
    "This relates to the manufacturers ability to manufacture the forecast set.  "
   ]
  },
  {
   "cell_type": "code",
   "execution_count": 9,
   "metadata": {},
   "outputs": [
    {
     "ename": "NameError",
     "evalue": "name 'df' is not defined",
     "output_type": "error",
     "traceback": [
      "\u001b[1;31m---------------------------------------------------------------------------\u001b[0m",
      "\u001b[1;31mNameError\u001b[0m                                 Traceback (most recent call last)",
      "\u001b[1;32m<ipython-input-9-840280d97124>\u001b[0m in \u001b[0;36m<module>\u001b[1;34m\u001b[0m\n\u001b[0;32m      1\u001b[0m \u001b[1;31m# Adapted from https://datatofish.com/if-condition-in-pandas-dataframe/\u001b[0m\u001b[1;33m\u001b[0m\u001b[1;33m\u001b[0m\u001b[1;33m\u001b[0m\u001b[0m\n\u001b[1;32m----> 2\u001b[1;33m \u001b[0mdf\u001b[0m\u001b[1;33m.\u001b[0m\u001b[0mloc\u001b[0m\u001b[1;33m[\u001b[0m\u001b[0mdf\u001b[0m\u001b[1;33m.\u001b[0m\u001b[0mABC\u001b[0m \u001b[1;33m==\u001b[0m \u001b[1;34m'A'\u001b[0m\u001b[1;33m,\u001b[0m \u001b[1;34m'Mthly_Forecast'\u001b[0m\u001b[1;33m]\u001b[0m \u001b[1;33m=\u001b[0m \u001b[1;36m1000\u001b[0m\u001b[1;33m\u001b[0m\u001b[1;33m\u001b[0m\u001b[0m\n\u001b[0m\u001b[0;32m      3\u001b[0m \u001b[0mdf\u001b[0m\u001b[1;33m.\u001b[0m\u001b[0mloc\u001b[0m\u001b[1;33m[\u001b[0m\u001b[0mdf\u001b[0m\u001b[1;33m.\u001b[0m\u001b[0mABC\u001b[0m \u001b[1;33m==\u001b[0m \u001b[1;34m'B'\u001b[0m\u001b[1;33m,\u001b[0m \u001b[1;34m'Mthly_Forecast'\u001b[0m\u001b[1;33m]\u001b[0m \u001b[1;33m=\u001b[0m \u001b[1;36m100\u001b[0m\u001b[1;33m\u001b[0m\u001b[1;33m\u001b[0m\u001b[0m\n\u001b[0;32m      4\u001b[0m \u001b[0mdf\u001b[0m\u001b[1;33m.\u001b[0m\u001b[0mloc\u001b[0m\u001b[1;33m[\u001b[0m\u001b[0mdf\u001b[0m\u001b[1;33m.\u001b[0m\u001b[0mABC\u001b[0m \u001b[1;33m==\u001b[0m \u001b[1;34m'C'\u001b[0m\u001b[1;33m,\u001b[0m \u001b[1;34m'Mthly_Forecast'\u001b[0m\u001b[1;33m]\u001b[0m \u001b[1;33m=\u001b[0m \u001b[1;36m10\u001b[0m\u001b[1;33m\u001b[0m\u001b[1;33m\u001b[0m\u001b[0m\n",
      "\u001b[1;31mNameError\u001b[0m: name 'df' is not defined"
     ]
    }
   ],
   "source": [
    "# Adapted from https://datatofish.com/if-condition-in-pandas-dataframe/\n",
    "df.loc[df.ABC == 'A', 'Mthly_Forecast'] = 1000\n",
    "df.loc[df.ABC == 'B', 'Mthly_Forecast'] = 100\n",
    "df.loc[df.ABC == 'C', 'Mthly_Forecast'] = 10"
   ]
  },
  {
   "cell_type": "markdown",
   "metadata": {},
   "source": [
    "Safety stock formula:Safety stock = (Maximum daily usage * Maximum lead time in days) – (Average daily usage * Average lead time in days)."
   ]
  },
  {
   "cell_type": "markdown",
   "metadata": {},
   "source": [
    "### Variable 5:  Safety Stocks\n",
    "Safety stocks cover unexpected demand or difficuties at the manufacturer.  Safety stocks tie up company money therefore potentially limiting future performance as money is not available to invest.  Safety stocks are straightforware - they cover shipping and manufacturing days and one week for risk."
   ]
  },
  {
   "cell_type": "code",
   "execution_count": null,
   "metadata": {},
   "outputs": [],
   "source": [
    "# Add safety stock - 3 weeks sales i.e 67% of Mthly_Forecast\n",
    "# Adapted from https://www.geeksforgeeks.org/adding-new-column-to-existing-dataframe-in-pandas/\n",
    "df2 = df.assign(Safety_Stock = df.Mthly_Forecast * .67)\n",
    "df2"
   ]
  },
  {
   "cell_type": "markdown",
   "metadata": {},
   "source": [
    "#### Bring in Actual Sales for Comparison purposes"
   ]
  },
  {
   "cell_type": "code",
   "execution_count": null,
   "metadata": {},
   "outputs": [],
   "source": [
    "# Adapted from https://datatofish.com/if-condition-in-pandas-dataframe/\n",
    "df2.loc[df.ABC == 'A', 'Actual Sales'] = 1090\n",
    "df2.loc[df.ABC == 'B', 'Actual Sales'] = 120\n",
    "df2.loc[df.ABC == 'C', 'Actual Sales'] = 15\n",
    "df2"
   ]
  },
  {
   "cell_type": "markdown",
   "metadata": {},
   "source": [
    "Dataset complete.  Time to analyse"
   ]
  },
  {
   "cell_type": "code",
   "execution_count": null,
   "metadata": {},
   "outputs": [],
   "source": [
    "# Adapted from https://stackoverflow.com/questions/49609353/pandas-dataframe-to-csv-not-exporting-all-rows/53606044\n",
    "df2.to_csv(\"sc.csv\", index=False, mode='w')"
   ]
  },
  {
   "cell_type": "markdown",
   "metadata": {},
   "source": [
    "## References\n",
    " - [1] Python Software Foundation. Welcome to python.org.   \n",
    "https://www.python.org/\n",
    " - [2] GMIT. Quality assurance framework.   \n",
    "https://www.gmit.ie/general/quality-assurance-framework\n",
    " - [3] Software Freedom Conservancy. Git.   \n",
    "https://git-scm.com/\n",
    " - [4] Project Jupyter. Project jupyter.    \n",
    "https://jupyter.org/\n",
    " - [5] NumPy developers. Numpy.    \n",
    "http://www.numpy.org/\n",
    " - [6] Clear Spider             \n",
    "https://www.clearspider.com/blog-reduce-inventory-shortages/\n",
    " - [7] University of New Brunswick, NB Canada Fredericton   \n",
    "http://www2.unb.ca/~ddu/4690/Lecture_notes/Lec2.pdf\n",
    " - [8] Buildmedia     \n",
    "https://buildmedia.readthedocs.org/media/pdf/supplychainpy/latest/supplychainpy.pdf\n",
    " - [9] Pynative\n",
    "https://pynative.com/python-random-choice/\n",
    " - [10] Scipy\n",
    "https://docs.scipy.org/doc/numpy-1.15.0/reference/generated/numpy.random.normal.html\n",
    " - [11] Wikipedia\n",
    "https://en.wikipedia.org/wiki/ABC_analysis"
   ]
  }
 ],
 "metadata": {
  "kernelspec": {
   "display_name": "Python 3",
   "language": "python",
   "name": "python3"
  },
  "language_info": {
   "codemirror_mode": {
    "name": "ipython",
    "version": 3
   },
   "file_extension": ".py",
   "mimetype": "text/x-python",
   "name": "python",
   "nbconvert_exporter": "python",
   "pygments_lexer": "ipython3",
   "version": "3.7.4"
  }
 },
 "nbformat": 4,
 "nbformat_minor": 2
}
