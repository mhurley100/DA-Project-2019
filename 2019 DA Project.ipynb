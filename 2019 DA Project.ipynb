{
 "cells": [
  {
   "cell_type": "markdown",
   "metadata": {},
   "source": [
    "# 2019 DA Project"
   ]
  },
  {
   "cell_type": "markdown",
   "metadata": {},
   "source": [
    "## Project Plan\n",
    "\n",
    "- Choose a real world phenomenon\n",
    "- Research and understand the dataset\n",
    "- Choose variables \n",
    "- Match variables to a distribution\n",
    "- Analyse variables and their inter relationships\n",
    "- Devise an algorithm or method to synthesise those variables\n",
    "- Generate dataset"
   ]
  },
  {
   "cell_type": "markdown",
   "metadata": {},
   "source": [
    "## Introduction\n",
    "\n",
    "I have chosen Supply Chain inventory shortages as the real world phenomenon."
   ]
  },
  {
   "cell_type": "markdown",
   "metadata": {},
   "source": [
    "## Research\n",
    "Supply chain consists of suppliers and manufacturers, who convert raw materials into finished materials, distribution centres and warehouses, from which finished products are distributed to customers. Inventory appears in the supply chain in several forms.  The objective of inventory is to achieve satisfactory levels of customer service while keeping inventory costs within reasonable bounds.\n",
    "\n",
    "Safety stock (SS): stock that is held in excess of expected demand due to variable demand rate and/or variable lead time.\n",
    "\n",
    "ABC approach: Set up priorities for different items.\n",
    "Class A: high-revenue products: 80% annual sales and 20% inventory SKU’s: periodic review with shorter review time.\n",
    "Class B: medium-revenue products: 15% annual sales and 75% inventory SKU’s: periodic review with longer review time.\n",
    "Class C: low-revenue products: 5% annual sales and 5% inventory SKU’s: either no inventory or a high inventory of\n",
    "inexpensive products.[7]\n",
    "\n",
    "Product shortages results in lost customers and therefore revenue.  If a product is not on the shelf, customers look elsewhere.  To resolve product shortages, many companies increase safety stocks. As inventory budgets are targeted at finished products, this can result in reduced holdings of raw materials required to manufacture the finished products.[6]  This inhibits companies ability to respond to fluctuations in demand.  Is there a correlation between product shortages and safety stock?  Do other variables such as forecast, lead times, cycletime at the manufacturer etc have an impact?  The goal of this is to identify if safety stocks can be reduced to free up cash for the company."
   ]
  },
  {
   "cell_type": "markdown",
   "metadata": {},
   "source": [
    "## Variables\n",
    "\n",
    "Determine the variables:  \n",
    "\n",
    "Material:  The volume of material shortages\n",
    "\n",
    "ABC classification\n",
    "\n",
    "Safety Stock:  Safety Stock level\n",
    "\n",
    "Forecasts:  Manufacturer is provided with a forecast for the quarter.\n",
    "\n",
    "Lead time from the Manufacturer to the distribution centres.  \n",
    "\n",
    "Inventory levels\n",
    "\n",
    "Cycle time at manufacturer\n"
   ]
  },
  {
   "cell_type": "markdown",
   "metadata": {},
   "source": [
    "## Import Libriaries"
   ]
  },
  {
   "cell_type": "code",
   "execution_count": 1,
   "metadata": {},
   "outputs": [],
   "source": [
    "import numpy as np\n",
    "import pandas as pd\n",
    "import matplotlib.pyplot as plt\n",
    "import seaborn as sns"
   ]
  },
  {
   "cell_type": "markdown",
   "metadata": {},
   "source": [
    "## Materials"
   ]
  },
  {
   "cell_type": "code",
   "execution_count": 24,
   "metadata": {},
   "outputs": [],
   "source": [
    "# 100 materials\n",
    "mat = 100"
   ]
  },
  {
   "cell_type": "code",
   "execution_count": 40,
   "metadata": {},
   "outputs": [
    {
     "data": {
      "text/plain": [
       "array(['A', 'A', 'B', 'A', 'A', 'C', 'A', 'C', 'A', 'B', 'B', 'B', 'C',\n",
       "       'B', 'A', 'A', 'A', 'B', 'A', 'A', 'B', 'C', 'A', 'A', 'A', 'A',\n",
       "       'B', 'B', 'A', 'B', 'A', 'B', 'A', 'A', 'A', 'A', 'A', 'B', 'B',\n",
       "       'A', 'A', 'A', 'A', 'A', 'A', 'A', 'B', 'A', 'A', 'A', 'B', 'A',\n",
       "       'A', 'B', 'A', 'A', 'A', 'A', 'A', 'A', 'C', 'A', 'A', 'A', 'A',\n",
       "       'B', 'B', 'A', 'B', 'A', 'A', 'B', 'A', 'A', 'A', 'A', 'B', 'B',\n",
       "       'B', 'C', 'A', 'A', 'A', 'A', 'A', 'B', 'A', 'C', 'A', 'A', 'A',\n",
       "       'A', 'A', 'A', 'A', 'B', 'A', 'B', 'A', 'A'], dtype='<U1')"
      ]
     },
     "execution_count": 40,
     "metadata": {},
     "output_type": "execute_result"
    }
   ],
   "source": [
    "# ABC classification has a Pareto distribution\n",
    "abc = np.array([\"C\" if np.random.random() >= 0.95 else \"B\" if np.random.random() >= .8  else \"A\" for i in range(mat)])\n",
    "abc"
   ]
  },
  {
   "cell_type": "code",
   "execution_count": null,
   "metadata": {},
   "outputs": [],
   "source": []
  },
  {
   "cell_type": "code",
   "execution_count": null,
   "metadata": {},
   "outputs": [],
   "source": []
  },
  {
   "cell_type": "code",
   "execution_count": 42,
   "metadata": {},
   "outputs": [
    {
     "data": {
      "text/html": [
       "<div>\n",
       "<style scoped>\n",
       "    .dataframe tbody tr th:only-of-type {\n",
       "        vertical-align: middle;\n",
       "    }\n",
       "\n",
       "    .dataframe tbody tr th {\n",
       "        vertical-align: top;\n",
       "    }\n",
       "\n",
       "    .dataframe thead th {\n",
       "        text-align: right;\n",
       "    }\n",
       "</style>\n",
       "<table border=\"1\" class=\"dataframe\">\n",
       "  <thead>\n",
       "    <tr style=\"text-align: right;\">\n",
       "      <th></th>\n",
       "      <th>abc</th>\n",
       "    </tr>\n",
       "  </thead>\n",
       "  <tbody>\n",
       "    <tr>\n",
       "      <td>0</td>\n",
       "      <td>A</td>\n",
       "    </tr>\n",
       "    <tr>\n",
       "      <td>1</td>\n",
       "      <td>A</td>\n",
       "    </tr>\n",
       "    <tr>\n",
       "      <td>2</td>\n",
       "      <td>B</td>\n",
       "    </tr>\n",
       "    <tr>\n",
       "      <td>3</td>\n",
       "      <td>A</td>\n",
       "    </tr>\n",
       "    <tr>\n",
       "      <td>4</td>\n",
       "      <td>A</td>\n",
       "    </tr>\n",
       "    <tr>\n",
       "      <td>...</td>\n",
       "      <td>...</td>\n",
       "    </tr>\n",
       "    <tr>\n",
       "      <td>95</td>\n",
       "      <td>B</td>\n",
       "    </tr>\n",
       "    <tr>\n",
       "      <td>96</td>\n",
       "      <td>A</td>\n",
       "    </tr>\n",
       "    <tr>\n",
       "      <td>97</td>\n",
       "      <td>B</td>\n",
       "    </tr>\n",
       "    <tr>\n",
       "      <td>98</td>\n",
       "      <td>A</td>\n",
       "    </tr>\n",
       "    <tr>\n",
       "      <td>99</td>\n",
       "      <td>A</td>\n",
       "    </tr>\n",
       "  </tbody>\n",
       "</table>\n",
       "<p>100 rows × 1 columns</p>\n",
       "</div>"
      ],
      "text/plain": [
       "   abc\n",
       "0    A\n",
       "1    A\n",
       "2    B\n",
       "3    A\n",
       "4    A\n",
       "..  ..\n",
       "95   B\n",
       "96   A\n",
       "97   B\n",
       "98   A\n",
       "99   A\n",
       "\n",
       "[100 rows x 1 columns]"
      ]
     },
     "execution_count": 42,
     "metadata": {},
     "output_type": "execute_result"
    }
   ],
   "source": [
    "df = pd.DataFrame({'abc': abc})\n",
    "df"
   ]
  },
  {
   "cell_type": "code",
   "execution_count": null,
   "metadata": {},
   "outputs": [],
   "source": []
  },
  {
   "cell_type": "markdown",
   "metadata": {},
   "source": [
    "## References\n",
    " - [1] Python Software Foundation. Welcome to python.org.   \n",
    "https://www.python.org/\n",
    " - [2] GMIT. Quality assurance framework.   \n",
    "https://www.gmit.ie/general/quality-assurance-framework\n",
    " - [3] Software Freedom Conservancy. Git.   \n",
    "https://git-scm.com/\n",
    " - [4] Project Jupyter. Project jupyter.    \n",
    "https://jupyter.org/\n",
    " - [5] NumPy developers. Numpy.    \n",
    "http://www.numpy.org/\n",
    " - [6] Clear Spider             \n",
    "https://www.clearspider.com/blog-reduce-inventory-shortages/\n",
    " - [7] University of New Brunswick, NB Canada Fredericton   \n",
    "http://www2.unb.ca/~ddu/4690/Lecture_notes/Lec2.pdf\n",
    " - [8] Buildmedia     \n",
    "https://buildmedia.readthedocs.org/media/pdf/supplychainpy/latest/supplychainpy.pdf"
   ]
  },
  {
   "cell_type": "code",
   "execution_count": null,
   "metadata": {},
   "outputs": [],
   "source": []
  }
 ],
 "metadata": {
  "kernelspec": {
   "display_name": "Python 3",
   "language": "python",
   "name": "python3"
  },
  "language_info": {
   "codemirror_mode": {
    "name": "ipython",
    "version": 3
   },
   "file_extension": ".py",
   "mimetype": "text/x-python",
   "name": "python",
   "nbconvert_exporter": "python",
   "pygments_lexer": "ipython3",
   "version": "3.7.4"
  }
 },
 "nbformat": 4,
 "nbformat_minor": 2
}
